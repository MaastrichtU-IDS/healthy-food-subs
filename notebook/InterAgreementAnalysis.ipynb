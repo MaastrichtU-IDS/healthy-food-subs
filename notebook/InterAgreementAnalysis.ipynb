{
 "cells": [
  {
   "cell_type": "code",
   "execution_count": 1,
   "metadata": {},
   "outputs": [],
   "source": [
    "from sklearn.metrics import cohen_kappa_score\n"
   ]
  },
  {
   "cell_type": "code",
   "execution_count": 2,
   "metadata": {},
   "outputs": [],
   "source": [
    "import pandas as pd"
   ]
  },
  {
   "cell_type": "code",
   "execution_count": 27,
   "metadata": {},
   "outputs": [
    {
     "data": {
      "text/html": [
       "<div>\n",
       "<style scoped>\n",
       "    .dataframe tbody tr th:only-of-type {\n",
       "        vertical-align: middle;\n",
       "    }\n",
       "\n",
       "    .dataframe tbody tr th {\n",
       "        vertical-align: top;\n",
       "    }\n",
       "\n",
       "    .dataframe thead th {\n",
       "        text-align: right;\n",
       "    }\n",
       "</style>\n",
       "<table border=\"1\" class=\"dataframe\">\n",
       "  <thead>\n",
       "    <tr style=\"text-align: right;\">\n",
       "      <th></th>\n",
       "      <th>Unnamed: 0</th>\n",
       "      <th>Food id</th>\n",
       "      <th>Food</th>\n",
       "      <th>Expert_Response1</th>\n",
       "      <th>Expert_Response2</th>\n",
       "      <th>Similar Food</th>\n",
       "    </tr>\n",
       "  </thead>\n",
       "  <tbody>\n",
       "    <tr>\n",
       "      <th>0</th>\n",
       "      <td>0</td>\n",
       "      <td>http://idea.rpi.edu/heals/kb/usda#09229</td>\n",
       "      <td>Papaya nectar, canned</td>\n",
       "      <td>0.0</td>\n",
       "      <td>0.0</td>\n",
       "      <td>Fruit cocktail, canned, heavy syrup</td>\n",
       "    </tr>\n",
       "    <tr>\n",
       "      <th>1</th>\n",
       "      <td>1</td>\n",
       "      <td>http://idea.rpi.edu/heals/kb/usda#09229</td>\n",
       "      <td>Papaya nectar, canned</td>\n",
       "      <td>1.0</td>\n",
       "      <td>1.0</td>\n",
       "      <td>Apple juice, canned or bottled, unsweetened</td>\n",
       "    </tr>\n",
       "    <tr>\n",
       "      <th>2</th>\n",
       "      <td>2</td>\n",
       "      <td>http://idea.rpi.edu/heals/kb/usda#09229</td>\n",
       "      <td>Papaya nectar, canned</td>\n",
       "      <td>0.0</td>\n",
       "      <td>0.0</td>\n",
       "      <td>Plums, canned, heavy syrup</td>\n",
       "    </tr>\n",
       "    <tr>\n",
       "      <th>3</th>\n",
       "      <td>3</td>\n",
       "      <td>http://idea.rpi.edu/heals/kb/usda#09229</td>\n",
       "      <td>Papaya nectar, canned</td>\n",
       "      <td>1.0</td>\n",
       "      <td>1.0</td>\n",
       "      <td>Pomegranate juice, bottled</td>\n",
       "    </tr>\n",
       "    <tr>\n",
       "      <th>4</th>\n",
       "      <td>4</td>\n",
       "      <td>http://idea.rpi.edu/heals/kb/usda#09229</td>\n",
       "      <td>Papaya nectar, canned</td>\n",
       "      <td>0.0</td>\n",
       "      <td>0.0</td>\n",
       "      <td>Peaches, canned, light syrup pack</td>\n",
       "    </tr>\n",
       "  </tbody>\n",
       "</table>\n",
       "</div>"
      ],
      "text/plain": [
       "   Unnamed: 0                                  Food id                   Food  \\\n",
       "0           0  http://idea.rpi.edu/heals/kb/usda#09229  Papaya nectar, canned   \n",
       "1           1  http://idea.rpi.edu/heals/kb/usda#09229  Papaya nectar, canned   \n",
       "2           2  http://idea.rpi.edu/heals/kb/usda#09229  Papaya nectar, canned   \n",
       "3           3  http://idea.rpi.edu/heals/kb/usda#09229  Papaya nectar, canned   \n",
       "4           4  http://idea.rpi.edu/heals/kb/usda#09229  Papaya nectar, canned   \n",
       "\n",
       "   Expert_Response1  Expert_Response2  \\\n",
       "0               0.0               0.0   \n",
       "1               1.0               1.0   \n",
       "2               0.0               0.0   \n",
       "3               1.0               1.0   \n",
       "4               0.0               0.0   \n",
       "\n",
       "                                  Similar Food  \n",
       "0          Fruit cocktail, canned, heavy syrup  \n",
       "1  Apple juice, canned or bottled, unsweetened  \n",
       "2                   Plums, canned, heavy syrup  \n",
       "3                   Pomegranate juice, bottled  \n",
       "4            Peaches, canned, light syrup pack  "
      ]
     },
     "execution_count": 27,
     "metadata": {},
     "output_type": "execute_result"
    }
   ],
   "source": [
    "df =pd.read_csv('../data/input/experts_food_substitions_tobe_verified.csv')\n",
    "df.head()"
   ]
  },
  {
   "cell_type": "code",
   "execution_count": 29,
   "metadata": {},
   "outputs": [
    {
     "data": {
      "text/plain": [
       "(3344, 6)"
      ]
     },
     "execution_count": 29,
     "metadata": {},
     "output_type": "execute_result"
    }
   ],
   "source": [
    "df.shape"
   ]
  },
  {
   "cell_type": "code",
   "execution_count": 30,
   "metadata": {},
   "outputs": [],
   "source": [
    "df_filtered= df.dropna(subset=['Expert_Response1', 'Expert_Response2'],how='any')"
   ]
  },
  {
   "cell_type": "code",
   "execution_count": 31,
   "metadata": {},
   "outputs": [
    {
     "data": {
      "text/plain": [
       "0.8835383921559539"
      ]
     },
     "execution_count": 31,
     "metadata": {},
     "output_type": "execute_result"
    }
   ],
   "source": [
    "cohen_kappa_score(df_filtered['Expert_Response1'],df_filtered['Expert_Response2'])"
   ]
  },
  {
   "cell_type": "code",
   "execution_count": 32,
   "metadata": {},
   "outputs": [
    {
     "data": {
      "text/plain": [
       "array([0., 1.])"
      ]
     },
     "execution_count": 32,
     "metadata": {},
     "output_type": "execute_result"
    }
   ],
   "source": [
    "df_filtered['Expert_Response1'].unique()"
   ]
  },
  {
   "cell_type": "code",
   "execution_count": 33,
   "metadata": {},
   "outputs": [
    {
     "data": {
      "text/plain": [
       "array([0., 1.])"
      ]
     },
     "execution_count": 33,
     "metadata": {},
     "output_type": "execute_result"
    }
   ],
   "source": [
    "df_filtered['Expert_Response2'].unique()"
   ]
  },
  {
   "cell_type": "code",
   "execution_count": 34,
   "metadata": {},
   "outputs": [],
   "source": [
    "num_match = len(df_filtered[df_filtered['Expert_Response1'] ==df_filtered['Expert_Response2']])"
   ]
  },
  {
   "cell_type": "code",
   "execution_count": 35,
   "metadata": {},
   "outputs": [
    {
     "data": {
      "text/plain": [
       "0.9435679611650486"
      ]
     },
     "execution_count": 35,
     "metadata": {},
     "output_type": "execute_result"
    }
   ],
   "source": [
    "num_match/len(df_filtered)"
   ]
  },
  {
   "cell_type": "code",
   "execution_count": 36,
   "metadata": {},
   "outputs": [],
   "source": [
    "df_filtered[df_filtered['Expert_Response1'] ==df_filtered['Expert_Response1']].to_csv('../data/aggreed_substitution.csv',index=False)"
   ]
  },
  {
   "cell_type": "code",
   "execution_count": null,
   "metadata": {},
   "outputs": [],
   "source": []
  }
 ],
 "metadata": {
  "kernelspec": {
   "display_name": "Python 3",
   "language": "python",
   "name": "python3"
  },
  "language_info": {
   "codemirror_mode": {
    "name": "ipython",
    "version": 3
   },
   "file_extension": ".py",
   "mimetype": "text/x-python",
   "name": "python",
   "nbconvert_exporter": "python",
   "pygments_lexer": "ipython3",
   "version": "3.8.3"
  }
 },
 "nbformat": 4,
 "nbformat_minor": 4
}
