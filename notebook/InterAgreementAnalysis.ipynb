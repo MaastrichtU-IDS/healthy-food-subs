{
 "cells": [
  {
   "cell_type": "code",
   "execution_count": 1,
   "metadata": {},
   "outputs": [],
   "source": [
    "from sklearn.metrics import cohen_kappa_score\n"
   ]
  },
  {
   "cell_type": "code",
   "execution_count": 2,
   "metadata": {},
   "outputs": [],
   "source": [
    "import pandas as pd"
   ]
  },
  {
   "cell_type": "code",
   "execution_count": 27,
   "metadata": {},
   "outputs": [
    {
     "data": {
      "text/html": [
       "<div>\n",
       "<style scoped>\n",
       "    .dataframe tbody tr th:only-of-type {\n",
       "        vertical-align: middle;\n",
       "    }\n",
       "\n",
       "    .dataframe tbody tr th {\n",
       "        vertical-align: top;\n",
       "    }\n",
       "\n",
       "    .dataframe thead th {\n",
       "        text-align: right;\n",
       "    }\n",
       "</style>\n",
       "<table border=\"1\" class=\"dataframe\">\n",
       "  <thead>\n",
       "    <tr style=\"text-align: right;\">\n",
       "      <th></th>\n",
       "      <th>Unnamed: 0</th>\n",
       "      <th>Food id</th>\n",
       "      <th>Food</th>\n",
       "      <th>Expert_Response1</th>\n",
       "      <th>Expert_Response2</th>\n",
       "      <th>Similar Food</th>\n",
       "    </tr>\n",
       "  </thead>\n",
       "  <tbody>\n",
       "    <tr>\n",
       "      <th>0</th>\n",
       "      <td>0</td>\n",
       "      <td>http://idea.rpi.edu/heals/kb/usda#09229</td>\n",
       "      <td>Papaya nectar, canned</td>\n",
       "      <td>0.0</td>\n",
       "      <td>0.0</td>\n",
       "      <td>Fruit cocktail, canned, heavy syrup</td>\n",
       "    </tr>\n",
       "    <tr>\n",
       "      <th>1</th>\n",
       "      <td>1</td>\n",
       "      <td>http://idea.rpi.edu/heals/kb/usda#09229</td>\n",
       "      <td>Papaya nectar, canned</td>\n",
       "      <td>1.0</td>\n",
       "      <td>1.0</td>\n",
       "      <td>Apple juice, canned or bottled, unsweetened</td>\n",
       "    </tr>\n",
       "    <tr>\n",
       "      <th>2</th>\n",
       "      <td>2</td>\n",
       "      <td>http://idea.rpi.edu/heals/kb/usda#09229</td>\n",
       "      <td>Papaya nectar, canned</td>\n",
       "      <td>0.0</td>\n",
       "      <td>0.0</td>\n",
       "      <td>Plums, canned, heavy syrup</td>\n",
       "    </tr>\n",
       "    <tr>\n",
       "      <th>3</th>\n",
       "      <td>3</td>\n",
       "      <td>http://idea.rpi.edu/heals/kb/usda#09229</td>\n",
       "      <td>Papaya nectar, canned</td>\n",
       "      <td>1.0</td>\n",
       "      <td>1.0</td>\n",
       "      <td>Pomegranate juice, bottled</td>\n",
       "    </tr>\n",
       "    <tr>\n",
       "      <th>4</th>\n",
       "      <td>4</td>\n",
       "      <td>http://idea.rpi.edu/heals/kb/usda#09229</td>\n",
       "      <td>Papaya nectar, canned</td>\n",
       "      <td>0.0</td>\n",
       "      <td>0.0</td>\n",
       "      <td>Peaches, canned, light syrup pack</td>\n",
       "    </tr>\n",
       "  </tbody>\n",
       "</table>\n",
       "</div>"
      ],
      "text/plain": [
       "   Unnamed: 0                                  Food id                   Food  \\\n",
       "0           0  http://idea.rpi.edu/heals/kb/usda#09229  Papaya nectar, canned   \n",
       "1           1  http://idea.rpi.edu/heals/kb/usda#09229  Papaya nectar, canned   \n",
       "2           2  http://idea.rpi.edu/heals/kb/usda#09229  Papaya nectar, canned   \n",
       "3           3  http://idea.rpi.edu/heals/kb/usda#09229  Papaya nectar, canned   \n",
       "4           4  http://idea.rpi.edu/heals/kb/usda#09229  Papaya nectar, canned   \n",
       "\n",
       "   Expert_Response1  Expert_Response2  \\\n",
       "0               0.0               0.0   \n",
       "1               1.0               1.0   \n",
       "2               0.0               0.0   \n",
       "3               1.0               1.0   \n",
       "4               0.0               0.0   \n",
       "\n",
       "                                  Similar Food  \n",
       "0          Fruit cocktail, canned, heavy syrup  \n",
       "1  Apple juice, canned or bottled, unsweetened  \n",
       "2                   Plums, canned, heavy syrup  \n",
       "3                   Pomegranate juice, bottled  \n",
       "4            Peaches, canned, light syrup pack  "
      ]
     },
     "execution_count": 27,
     "metadata": {},
     "output_type": "execute_result"
    }
   ],
   "source": [
    "df =pd.read_csv('../data/input/experts_food_substitions_tobe_verified.csv')\n",
    "df.head()"
   ]
  },
  {
   "cell_type": "code",
   "execution_count": 29,
   "metadata": {},
   "outputs": [
    {
     "data": {
      "text/plain": [
       "(3344, 6)"
      ]
     },
     "execution_count": 29,
     "metadata": {},
     "output_type": "execute_result"
    }
   ],
   "source": [
    "df.shape"
   ]
  },
  {
   "cell_type": "code",
   "execution_count": 30,
   "metadata": {},
   "outputs": [],
   "source": [
    "df_filtered= df.dropna(subset=['Expert_Response1', 'Expert_Response2'],how='any')"
   ]
  },
  {
   "cell_type": "code",
   "execution_count": 31,
   "metadata": {},
   "outputs": [
    {
     "data": {
      "text/plain": [
       "0.8835383921559539"
      ]
     },
     "execution_count": 31,
     "metadata": {},
     "output_type": "execute_result"
    }
   ],
   "source": [
    "cohen_kappa_score(df_filtered['Expert_Response1'],df_filtered['Expert_Response2'])"
   ]
  },
  {
   "cell_type": "code",
   "execution_count": 32,
   "metadata": {},
   "outputs": [
    {
     "data": {
      "text/plain": [
       "array([0., 1.])"
      ]
     },
     "execution_count": 32,
     "metadata": {},
     "output_type": "execute_result"
    }
   ],
   "source": [
    "df_filtered['Expert_Response1'].unique()"
   ]
  },
  {
   "cell_type": "code",
   "execution_count": 33,
   "metadata": {},
   "outputs": [
    {
     "data": {
      "text/plain": [
       "array([0., 1.])"
      ]
     },
     "execution_count": 33,
     "metadata": {},
     "output_type": "execute_result"
    }
   ],
   "source": [
    "df_filtered['Expert_Response2'].unique()"
   ]
  },
  {
   "cell_type": "code",
   "execution_count": 34,
   "metadata": {},
   "outputs": [],
   "source": [
    "num_match = len(df_filtered[df_filtered['Expert_Response1'] ==df_filtered['Expert_Response2']])"
   ]
  },
  {
   "cell_type": "code",
   "execution_count": 35,
   "metadata": {},
   "outputs": [
    {
     "data": {
      "text/plain": [
       "0.9435679611650486"
      ]
     },
     "execution_count": 35,
     "metadata": {},
     "output_type": "execute_result"
    }
   ],
   "source": [
    "num_match/len(df_filtered)"
   ]
  },
  {
   "cell_type": "code",
   "execution_count": 36,
   "metadata": {},
   "outputs": [],
   "source": [
    "df_filtered[df_filtered['Expert_Response1']== 1][df_filtered['Expert_Response1'] ==df_filtered['Expert_Response1']].to_csv('../data/aggreed_substitution.csv',index=False)"
   ]
  },
  {
   "cell_type": "code",
   "execution_count": 37,
   "metadata": {},
   "outputs": [
    {
     "name": "stderr",
     "output_type": "stream",
     "text": [
      "<ipython-input-37-9fa4281f7caa>:1: UserWarning: Boolean Series key will be reindexed to match DataFrame index.\n",
      "  df_filtered[df_filtered['Expert_Response1']== 1][df_filtered['Expert_Response1'] ==df_filtered['Expert_Response1']]\n"
     ]
    },
    {
     "data": {
      "text/html": [
       "<div>\n",
       "<style scoped>\n",
       "    .dataframe tbody tr th:only-of-type {\n",
       "        vertical-align: middle;\n",
       "    }\n",
       "\n",
       "    .dataframe tbody tr th {\n",
       "        vertical-align: top;\n",
       "    }\n",
       "\n",
       "    .dataframe thead th {\n",
       "        text-align: right;\n",
       "    }\n",
       "</style>\n",
       "<table border=\"1\" class=\"dataframe\">\n",
       "  <thead>\n",
       "    <tr style=\"text-align: right;\">\n",
       "      <th></th>\n",
       "      <th>Unnamed: 0</th>\n",
       "      <th>Food id</th>\n",
       "      <th>Food</th>\n",
       "      <th>Expert_Response1</th>\n",
       "      <th>Expert_Response2</th>\n",
       "      <th>Similar Food</th>\n",
       "    </tr>\n",
       "  </thead>\n",
       "  <tbody>\n",
       "    <tr>\n",
       "      <th>1</th>\n",
       "      <td>1</td>\n",
       "      <td>http://idea.rpi.edu/heals/kb/usda#09229</td>\n",
       "      <td>Papaya nectar, canned</td>\n",
       "      <td>1.0</td>\n",
       "      <td>1.0</td>\n",
       "      <td>Apple juice, canned or bottled, unsweetened</td>\n",
       "    </tr>\n",
       "    <tr>\n",
       "      <th>3</th>\n",
       "      <td>3</td>\n",
       "      <td>http://idea.rpi.edu/heals/kb/usda#09229</td>\n",
       "      <td>Papaya nectar, canned</td>\n",
       "      <td>1.0</td>\n",
       "      <td>1.0</td>\n",
       "      <td>Pomegranate juice, bottled</td>\n",
       "    </tr>\n",
       "    <tr>\n",
       "      <th>11</th>\n",
       "      <td>11</td>\n",
       "      <td>http://idea.rpi.edu/heals/kb/usda#09229</td>\n",
       "      <td>Papaya nectar, canned</td>\n",
       "      <td>1.0</td>\n",
       "      <td>1.0</td>\n",
       "      <td>Pear nectar, canned, without added ascorbic acid</td>\n",
       "    </tr>\n",
       "    <tr>\n",
       "      <th>13</th>\n",
       "      <td>13</td>\n",
       "      <td>http://idea.rpi.edu/heals/kb/usda#09229</td>\n",
       "      <td>Papaya nectar, canned</td>\n",
       "      <td>1.0</td>\n",
       "      <td>1.0</td>\n",
       "      <td>Peach nectar, canned, with sucralose</td>\n",
       "    </tr>\n",
       "    <tr>\n",
       "      <th>16</th>\n",
       "      <td>16</td>\n",
       "      <td>http://idea.rpi.edu/heals/kb/usda#09229</td>\n",
       "      <td>Papaya nectar, canned</td>\n",
       "      <td>1.0</td>\n",
       "      <td>1.0</td>\n",
       "      <td>Apple juice, frozen concentrate, unsweetened</td>\n",
       "    </tr>\n",
       "    <tr>\n",
       "      <th>...</th>\n",
       "      <td>...</td>\n",
       "      <td>...</td>\n",
       "      <td>...</td>\n",
       "      <td>...</td>\n",
       "      <td>...</td>\n",
       "      <td>...</td>\n",
       "    </tr>\n",
       "    <tr>\n",
       "      <th>3335</th>\n",
       "      <td>3335</td>\n",
       "      <td>http://idea.rpi.edu/heals/kb/usda#01161</td>\n",
       "      <td>Cheese substitute, mozzarella</td>\n",
       "      <td>1.0</td>\n",
       "      <td>0.0</td>\n",
       "      <td>Cheese, feta</td>\n",
       "    </tr>\n",
       "    <tr>\n",
       "      <th>3338</th>\n",
       "      <td>3338</td>\n",
       "      <td>http://idea.rpi.edu/heals/kb/usda#01179</td>\n",
       "      <td>Sour cream, light</td>\n",
       "      <td>1.0</td>\n",
       "      <td>1.0</td>\n",
       "      <td>Cream, sour, cultured</td>\n",
       "    </tr>\n",
       "    <tr>\n",
       "      <th>3339</th>\n",
       "      <td>3339</td>\n",
       "      <td>http://idea.rpi.edu/heals/kb/usda#20020</td>\n",
       "      <td>Cornmeal, whole-grain, yellow</td>\n",
       "      <td>1.0</td>\n",
       "      <td>0.0</td>\n",
       "      <td>Cornstarch</td>\n",
       "    </tr>\n",
       "    <tr>\n",
       "      <th>3340</th>\n",
       "      <td>3340</td>\n",
       "      <td>http://idea.rpi.edu/heals/kb/usda#04531</td>\n",
       "      <td>Oil, soybean lecithin</td>\n",
       "      <td>1.0</td>\n",
       "      <td>1.0</td>\n",
       "      <td>Oil, canola</td>\n",
       "    </tr>\n",
       "    <tr>\n",
       "      <th>3343</th>\n",
       "      <td>3343</td>\n",
       "      <td>http://idea.rpi.edu/heals/kb/usda#12195</td>\n",
       "      <td>Nuts, almond butter, plain</td>\n",
       "      <td>1.0</td>\n",
       "      <td>1.0</td>\n",
       "      <td>Peanut Butter, smooth</td>\n",
       "    </tr>\n",
       "  </tbody>\n",
       "</table>\n",
       "<p>1977 rows × 6 columns</p>\n",
       "</div>"
      ],
      "text/plain": [
       "      Unnamed: 0                                  Food id  \\\n",
       "1              1  http://idea.rpi.edu/heals/kb/usda#09229   \n",
       "3              3  http://idea.rpi.edu/heals/kb/usda#09229   \n",
       "11            11  http://idea.rpi.edu/heals/kb/usda#09229   \n",
       "13            13  http://idea.rpi.edu/heals/kb/usda#09229   \n",
       "16            16  http://idea.rpi.edu/heals/kb/usda#09229   \n",
       "...          ...                                      ...   \n",
       "3335        3335  http://idea.rpi.edu/heals/kb/usda#01161   \n",
       "3338        3338  http://idea.rpi.edu/heals/kb/usda#01179   \n",
       "3339        3339  http://idea.rpi.edu/heals/kb/usda#20020   \n",
       "3340        3340  http://idea.rpi.edu/heals/kb/usda#04531   \n",
       "3343        3343  http://idea.rpi.edu/heals/kb/usda#12195   \n",
       "\n",
       "                               Food  Expert_Response1  Expert_Response2  \\\n",
       "1             Papaya nectar, canned               1.0               1.0   \n",
       "3             Papaya nectar, canned               1.0               1.0   \n",
       "11            Papaya nectar, canned               1.0               1.0   \n",
       "13            Papaya nectar, canned               1.0               1.0   \n",
       "16            Papaya nectar, canned               1.0               1.0   \n",
       "...                             ...               ...               ...   \n",
       "3335  Cheese substitute, mozzarella               1.0               0.0   \n",
       "3338              Sour cream, light               1.0               1.0   \n",
       "3339  Cornmeal, whole-grain, yellow               1.0               0.0   \n",
       "3340          Oil, soybean lecithin               1.0               1.0   \n",
       "3343     Nuts, almond butter, plain               1.0               1.0   \n",
       "\n",
       "                                          Similar Food  \n",
       "1          Apple juice, canned or bottled, unsweetened  \n",
       "3                           Pomegranate juice, bottled  \n",
       "11    Pear nectar, canned, without added ascorbic acid  \n",
       "13                Peach nectar, canned, with sucralose  \n",
       "16        Apple juice, frozen concentrate, unsweetened  \n",
       "...                                                ...  \n",
       "3335                                      Cheese, feta  \n",
       "3338                             Cream, sour, cultured  \n",
       "3339                                        Cornstarch  \n",
       "3340                                       Oil, canola  \n",
       "3343                            Peanut Butter, smooth   \n",
       "\n",
       "[1977 rows x 6 columns]"
      ]
     },
     "execution_count": 37,
     "metadata": {},
     "output_type": "execute_result"
    }
   ],
   "source": [
    "df_filtered[df_filtered['Expert_Response1']== 1][df_filtered['Expert_Response1'] ==df_filtered['Expert_Response1']]"
   ]
  },
  {
   "cell_type": "code",
   "execution_count": 44,
   "metadata": {},
   "outputs": [],
   "source": [
    "df_final = df_filtered[(df_filtered['Expert_Response1']== 1) & (df_filtered['Expert_Response2']== 1)]"
   ]
  },
  {
   "cell_type": "code",
   "execution_count": 53,
   "metadata": {},
   "outputs": [],
   "source": [
    "df_label = pd.read_csv('../data/usda-labels.csv')"
   ]
  },
  {
   "cell_type": "code",
   "execution_count": 54,
   "metadata": {},
   "outputs": [
    {
     "data": {
      "text/html": [
       "<div>\n",
       "<style scoped>\n",
       "    .dataframe tbody tr th:only-of-type {\n",
       "        vertical-align: middle;\n",
       "    }\n",
       "\n",
       "    .dataframe tbody tr th {\n",
       "        vertical-align: top;\n",
       "    }\n",
       "\n",
       "    .dataframe thead th {\n",
       "        text-align: right;\n",
       "    }\n",
       "</style>\n",
       "<table border=\"1\" class=\"dataframe\">\n",
       "  <thead>\n",
       "    <tr style=\"text-align: right;\">\n",
       "      <th></th>\n",
       "      <th>str</th>\n",
       "      <th>Resource</th>\n",
       "    </tr>\n",
       "  </thead>\n",
       "  <tbody>\n",
       "    <tr>\n",
       "      <th>0</th>\n",
       "      <td>Butter, salted</td>\n",
       "      <td>http://idea.rpi.edu/heals/kb/usda#01001</td>\n",
       "    </tr>\n",
       "    <tr>\n",
       "      <th>1</th>\n",
       "      <td>Butter, whipped, with salt</td>\n",
       "      <td>http://idea.rpi.edu/heals/kb/usda#01002</td>\n",
       "    </tr>\n",
       "    <tr>\n",
       "      <th>2</th>\n",
       "      <td>Butter oil, anhydrous</td>\n",
       "      <td>http://idea.rpi.edu/heals/kb/usda#01003</td>\n",
       "    </tr>\n",
       "    <tr>\n",
       "      <th>3</th>\n",
       "      <td>Cheese, blue</td>\n",
       "      <td>http://idea.rpi.edu/heals/kb/usda#01004</td>\n",
       "    </tr>\n",
       "    <tr>\n",
       "      <th>4</th>\n",
       "      <td>Cheese, brick</td>\n",
       "      <td>http://idea.rpi.edu/heals/kb/usda#01005</td>\n",
       "    </tr>\n",
       "  </tbody>\n",
       "</table>\n",
       "</div>"
      ],
      "text/plain": [
       "                          str                                 Resource\n",
       "0              Butter, salted  http://idea.rpi.edu/heals/kb/usda#01001\n",
       "1  Butter, whipped, with salt  http://idea.rpi.edu/heals/kb/usda#01002\n",
       "2       Butter oil, anhydrous  http://idea.rpi.edu/heals/kb/usda#01003\n",
       "3                Cheese, blue  http://idea.rpi.edu/heals/kb/usda#01004\n",
       "4               Cheese, brick  http://idea.rpi.edu/heals/kb/usda#01005"
      ]
     },
     "execution_count": 54,
     "metadata": {},
     "output_type": "execute_result"
    }
   ],
   "source": [
    "df_label.head()"
   ]
  },
  {
   "cell_type": "code",
   "execution_count": 50,
   "metadata": {},
   "outputs": [
    {
     "data": {
      "text/plain": [
       "1847"
      ]
     },
     "execution_count": 50,
     "metadata": {},
     "output_type": "execute_result"
    }
   ],
   "source": [
    "len(df_final)"
   ]
  },
  {
   "cell_type": "code",
   "execution_count": 58,
   "metadata": {},
   "outputs": [
    {
     "data": {
      "text/html": [
       "<div>\n",
       "<style scoped>\n",
       "    .dataframe tbody tr th:only-of-type {\n",
       "        vertical-align: middle;\n",
       "    }\n",
       "\n",
       "    .dataframe tbody tr th {\n",
       "        vertical-align: top;\n",
       "    }\n",
       "\n",
       "    .dataframe thead th {\n",
       "        text-align: right;\n",
       "    }\n",
       "</style>\n",
       "<table border=\"1\" class=\"dataframe\">\n",
       "  <thead>\n",
       "    <tr style=\"text-align: right;\">\n",
       "      <th></th>\n",
       "      <th>Unnamed: 0</th>\n",
       "      <th>Food id</th>\n",
       "      <th>Food</th>\n",
       "      <th>Expert_Response1</th>\n",
       "      <th>Expert_Response2</th>\n",
       "      <th>Similar Food</th>\n",
       "      <th>str</th>\n",
       "      <th>Resource</th>\n",
       "    </tr>\n",
       "  </thead>\n",
       "  <tbody>\n",
       "    <tr>\n",
       "      <th>0</th>\n",
       "      <td>1</td>\n",
       "      <td>http://idea.rpi.edu/heals/kb/usda#09229</td>\n",
       "      <td>Papaya nectar, canned</td>\n",
       "      <td>1.0</td>\n",
       "      <td>1.0</td>\n",
       "      <td>Apple juice, canned or bottled, unsweetened</td>\n",
       "      <td>Apple juice, canned or bottled, unsweetened</td>\n",
       "      <td>http://idea.rpi.edu/heals/kb/usda#09016</td>\n",
       "    </tr>\n",
       "    <tr>\n",
       "      <th>1</th>\n",
       "      <td>536</td>\n",
       "      <td>http://idea.rpi.edu/heals/kb/usda#09442</td>\n",
       "      <td>Pomegranate juice, bottled</td>\n",
       "      <td>1.0</td>\n",
       "      <td>1.0</td>\n",
       "      <td>Apple juice, canned or bottled, unsweetened</td>\n",
       "      <td>Apple juice, canned or bottled, unsweetened</td>\n",
       "      <td>http://idea.rpi.edu/heals/kb/usda#09016</td>\n",
       "    </tr>\n",
       "    <tr>\n",
       "      <th>2</th>\n",
       "      <td>3</td>\n",
       "      <td>http://idea.rpi.edu/heals/kb/usda#09229</td>\n",
       "      <td>Papaya nectar, canned</td>\n",
       "      <td>1.0</td>\n",
       "      <td>1.0</td>\n",
       "      <td>Pomegranate juice, bottled</td>\n",
       "      <td>Pomegranate juice, bottled</td>\n",
       "      <td>http://idea.rpi.edu/heals/kb/usda#09442</td>\n",
       "    </tr>\n",
       "    <tr>\n",
       "      <th>3</th>\n",
       "      <td>11</td>\n",
       "      <td>http://idea.rpi.edu/heals/kb/usda#09229</td>\n",
       "      <td>Papaya nectar, canned</td>\n",
       "      <td>1.0</td>\n",
       "      <td>1.0</td>\n",
       "      <td>Pear nectar, canned, without added ascorbic acid</td>\n",
       "      <td>Pear nectar, canned, without added ascorbic acid</td>\n",
       "      <td>http://idea.rpi.edu/heals/kb/usda#09262</td>\n",
       "    </tr>\n",
       "    <tr>\n",
       "      <th>4</th>\n",
       "      <td>13</td>\n",
       "      <td>http://idea.rpi.edu/heals/kb/usda#09229</td>\n",
       "      <td>Papaya nectar, canned</td>\n",
       "      <td>1.0</td>\n",
       "      <td>1.0</td>\n",
       "      <td>Peach nectar, canned, with sucralose</td>\n",
       "      <td>Peach nectar, canned, with sucralose</td>\n",
       "      <td>http://idea.rpi.edu/heals/kb/usda#09251</td>\n",
       "    </tr>\n",
       "  </tbody>\n",
       "</table>\n",
       "</div>"
      ],
      "text/plain": [
       "   Unnamed: 0                                  Food id  \\\n",
       "0           1  http://idea.rpi.edu/heals/kb/usda#09229   \n",
       "1         536  http://idea.rpi.edu/heals/kb/usda#09442   \n",
       "2           3  http://idea.rpi.edu/heals/kb/usda#09229   \n",
       "3          11  http://idea.rpi.edu/heals/kb/usda#09229   \n",
       "4          13  http://idea.rpi.edu/heals/kb/usda#09229   \n",
       "\n",
       "                         Food  Expert_Response1  Expert_Response2  \\\n",
       "0       Papaya nectar, canned               1.0               1.0   \n",
       "1  Pomegranate juice, bottled               1.0               1.0   \n",
       "2       Papaya nectar, canned               1.0               1.0   \n",
       "3       Papaya nectar, canned               1.0               1.0   \n",
       "4       Papaya nectar, canned               1.0               1.0   \n",
       "\n",
       "                                       Similar Food  \\\n",
       "0       Apple juice, canned or bottled, unsweetened   \n",
       "1       Apple juice, canned or bottled, unsweetened   \n",
       "2                        Pomegranate juice, bottled   \n",
       "3  Pear nectar, canned, without added ascorbic acid   \n",
       "4              Peach nectar, canned, with sucralose   \n",
       "\n",
       "                                                str  \\\n",
       "0       Apple juice, canned or bottled, unsweetened   \n",
       "1       Apple juice, canned or bottled, unsweetened   \n",
       "2                        Pomegranate juice, bottled   \n",
       "3  Pear nectar, canned, without added ascorbic acid   \n",
       "4              Peach nectar, canned, with sucralose   \n",
       "\n",
       "                                  Resource  \n",
       "0  http://idea.rpi.edu/heals/kb/usda#09016  \n",
       "1  http://idea.rpi.edu/heals/kb/usda#09016  \n",
       "2  http://idea.rpi.edu/heals/kb/usda#09442  \n",
       "3  http://idea.rpi.edu/heals/kb/usda#09262  \n",
       "4  http://idea.rpi.edu/heals/kb/usda#09251  "
      ]
     },
     "execution_count": 58,
     "metadata": {},
     "output_type": "execute_result"
    }
   ],
   "source": [
    "df_final= df_final.merge(df_label, right_on='str', left_on= 'Similar Food')\n",
    "df_final.head()"
   ]
  },
  {
   "cell_type": "code",
   "execution_count": 61,
   "metadata": {},
   "outputs": [],
   "source": [
    "df_final= df_final.rename(columns={'Food':'Food label','Similar Food':'Substitution label', 'Resource':'Substitution id'})"
   ]
  },
  {
   "cell_type": "code",
   "execution_count": 63,
   "metadata": {},
   "outputs": [
    {
     "data": {
      "text/html": [
       "<div>\n",
       "<style scoped>\n",
       "    .dataframe tbody tr th:only-of-type {\n",
       "        vertical-align: middle;\n",
       "    }\n",
       "\n",
       "    .dataframe tbody tr th {\n",
       "        vertical-align: top;\n",
       "    }\n",
       "\n",
       "    .dataframe thead th {\n",
       "        text-align: right;\n",
       "    }\n",
       "</style>\n",
       "<table border=\"1\" class=\"dataframe\">\n",
       "  <thead>\n",
       "    <tr style=\"text-align: right;\">\n",
       "      <th></th>\n",
       "      <th>Food id</th>\n",
       "      <th>Food label</th>\n",
       "      <th>Substitution id</th>\n",
       "      <th>Substitution label</th>\n",
       "    </tr>\n",
       "  </thead>\n",
       "  <tbody>\n",
       "    <tr>\n",
       "      <th>0</th>\n",
       "      <td>http://idea.rpi.edu/heals/kb/usda#09229</td>\n",
       "      <td>Papaya nectar, canned</td>\n",
       "      <td>http://idea.rpi.edu/heals/kb/usda#09016</td>\n",
       "      <td>Apple juice, canned or bottled, unsweetened</td>\n",
       "    </tr>\n",
       "    <tr>\n",
       "      <th>1</th>\n",
       "      <td>http://idea.rpi.edu/heals/kb/usda#09442</td>\n",
       "      <td>Pomegranate juice, bottled</td>\n",
       "      <td>http://idea.rpi.edu/heals/kb/usda#09016</td>\n",
       "      <td>Apple juice, canned or bottled, unsweetened</td>\n",
       "    </tr>\n",
       "    <tr>\n",
       "      <th>2</th>\n",
       "      <td>http://idea.rpi.edu/heals/kb/usda#09229</td>\n",
       "      <td>Papaya nectar, canned</td>\n",
       "      <td>http://idea.rpi.edu/heals/kb/usda#09442</td>\n",
       "      <td>Pomegranate juice, bottled</td>\n",
       "    </tr>\n",
       "    <tr>\n",
       "      <th>3</th>\n",
       "      <td>http://idea.rpi.edu/heals/kb/usda#09229</td>\n",
       "      <td>Papaya nectar, canned</td>\n",
       "      <td>http://idea.rpi.edu/heals/kb/usda#09262</td>\n",
       "      <td>Pear nectar, canned, without added ascorbic acid</td>\n",
       "    </tr>\n",
       "    <tr>\n",
       "      <th>4</th>\n",
       "      <td>http://idea.rpi.edu/heals/kb/usda#09229</td>\n",
       "      <td>Papaya nectar, canned</td>\n",
       "      <td>http://idea.rpi.edu/heals/kb/usda#09251</td>\n",
       "      <td>Peach nectar, canned, with sucralose</td>\n",
       "    </tr>\n",
       "  </tbody>\n",
       "</table>\n",
       "</div>"
      ],
      "text/plain": [
       "                                   Food id                  Food label  \\\n",
       "0  http://idea.rpi.edu/heals/kb/usda#09229       Papaya nectar, canned   \n",
       "1  http://idea.rpi.edu/heals/kb/usda#09442  Pomegranate juice, bottled   \n",
       "2  http://idea.rpi.edu/heals/kb/usda#09229       Papaya nectar, canned   \n",
       "3  http://idea.rpi.edu/heals/kb/usda#09229       Papaya nectar, canned   \n",
       "4  http://idea.rpi.edu/heals/kb/usda#09229       Papaya nectar, canned   \n",
       "\n",
       "                           Substitution id  \\\n",
       "0  http://idea.rpi.edu/heals/kb/usda#09016   \n",
       "1  http://idea.rpi.edu/heals/kb/usda#09016   \n",
       "2  http://idea.rpi.edu/heals/kb/usda#09442   \n",
       "3  http://idea.rpi.edu/heals/kb/usda#09262   \n",
       "4  http://idea.rpi.edu/heals/kb/usda#09251   \n",
       "\n",
       "                                 Substitution label  \n",
       "0       Apple juice, canned or bottled, unsweetened  \n",
       "1       Apple juice, canned or bottled, unsweetened  \n",
       "2                        Pomegranate juice, bottled  \n",
       "3  Pear nectar, canned, without added ascorbic acid  \n",
       "4              Peach nectar, canned, with sucralose  "
      ]
     },
     "execution_count": 63,
     "metadata": {},
     "output_type": "execute_result"
    }
   ],
   "source": [
    "df_final[['Food id','Food label','Substitution id','Substitution label']].head()"
   ]
  },
  {
   "cell_type": "code",
   "execution_count": 64,
   "metadata": {},
   "outputs": [],
   "source": [
    "df_final[['Food id','Food label','Substitution id','Substitution label']].to_csv('../data/final_substitution.csv',index=False)"
   ]
  },
  {
   "cell_type": "code",
   "execution_count": null,
   "metadata": {},
   "outputs": [],
   "source": []
  }
 ],
 "metadata": {
  "kernelspec": {
   "display_name": "Python 3",
   "language": "python",
   "name": "python3"
  },
  "language_info": {
   "codemirror_mode": {
    "name": "ipython",
    "version": 3
   },
   "file_extension": ".py",
   "mimetype": "text/x-python",
   "name": "python",
   "nbconvert_exporter": "python",
   "pygments_lexer": "ipython3",
   "version": "3.8.3"
  }
 },
 "nbformat": 4,
 "nbformat_minor": 4
}
