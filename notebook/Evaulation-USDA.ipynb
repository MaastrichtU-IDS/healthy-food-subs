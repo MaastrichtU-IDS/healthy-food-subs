{
 "cells": [
  {
   "cell_type": "code",
   "execution_count": 25,
   "metadata": {},
   "outputs": [],
   "source": [
    "import numpy as np\n",
    "import random"
   ]
  },
  {
   "cell_type": "code",
   "execution_count": 26,
   "metadata": {},
   "outputs": [],
   "source": [
    "import pandas as pd\n",
    "import ast"
   ]
  },
  {
   "cell_type": "code",
   "execution_count": 27,
   "metadata": {},
   "outputs": [],
   "source": [
    "from gensim.models import KeyedVectors\n",
    "from gensim.test.utils import datapath"
   ]
  },
  {
   "cell_type": "code",
   "execution_count": 194,
   "metadata": {},
   "outputs": [],
   "source": [
    "word_vectors = KeyedVectors.load_word2vec_format('../data/embedding/rdf2vec_usda_tags_openfoodfacts.txt', binary=False)\n",
    "\n",
    "# C text format"
   ]
  },
  {
   "cell_type": "code",
   "execution_count": 196,
   "metadata": {},
   "outputs": [
    {
     "data": {
      "text/plain": [
       "[('http://idea.rpi.edu/heals/kb/usda#01073', 0.9275833964347839),\n",
       " ('http://idea.rpi.edu/heals/kb/usda#01023', 0.9127548336982727),\n",
       " ('http://idea.rpi.edu/heals/kb/usda#01167', 0.9102444648742676),\n",
       " ('http://idea.rpi.edu/heals/kb/usda#01089', 0.9072730541229248),\n",
       " ('http://idea.rpi.edu/heals/kb/usda#01020', 0.9048135280609131)]"
      ]
     },
     "execution_count": 196,
     "metadata": {},
     "output_type": "execute_result"
    }
   ],
   "source": [
    "word_vectors.most_similar('http://idea.rpi.edu/heals/kb/usda#01003', topn=5)"
   ]
  },
  {
   "cell_type": "code",
   "execution_count": 197,
   "metadata": {},
   "outputs": [
    {
     "data": {
      "text/html": [
       "<div>\n",
       "<style scoped>\n",
       "    .dataframe tbody tr th:only-of-type {\n",
       "        vertical-align: middle;\n",
       "    }\n",
       "\n",
       "    .dataframe tbody tr th {\n",
       "        vertical-align: top;\n",
       "    }\n",
       "\n",
       "    .dataframe thead th {\n",
       "        text-align: right;\n",
       "    }\n",
       "</style>\n",
       "<table border=\"1\" class=\"dataframe\">\n",
       "  <thead>\n",
       "    <tr style=\"text-align: right;\">\n",
       "      <th></th>\n",
       "      <th>NDB_No</th>\n",
       "      <th>Long_Desc</th>\n",
       "      <th>FdGrp_Cd</th>\n",
       "      <th>FdGrp_Desc</th>\n",
       "    </tr>\n",
       "  </thead>\n",
       "  <tbody>\n",
       "    <tr>\n",
       "      <th>0</th>\n",
       "      <td>1001</td>\n",
       "      <td>Butter, salted</td>\n",
       "      <td>100</td>\n",
       "      <td>Dairy and Egg Products</td>\n",
       "    </tr>\n",
       "    <tr>\n",
       "      <th>1</th>\n",
       "      <td>1002</td>\n",
       "      <td>Butter, whipped, with salt</td>\n",
       "      <td>100</td>\n",
       "      <td>Dairy and Egg Products</td>\n",
       "    </tr>\n",
       "    <tr>\n",
       "      <th>2</th>\n",
       "      <td>1003</td>\n",
       "      <td>Butter oil, anhydrous</td>\n",
       "      <td>100</td>\n",
       "      <td>Dairy and Egg Products</td>\n",
       "    </tr>\n",
       "    <tr>\n",
       "      <th>3</th>\n",
       "      <td>1004</td>\n",
       "      <td>Cheese, blue</td>\n",
       "      <td>100</td>\n",
       "      <td>Dairy and Egg Products</td>\n",
       "    </tr>\n",
       "    <tr>\n",
       "      <th>4</th>\n",
       "      <td>1005</td>\n",
       "      <td>Cheese, brick</td>\n",
       "      <td>100</td>\n",
       "      <td>Dairy and Egg Products</td>\n",
       "    </tr>\n",
       "  </tbody>\n",
       "</table>\n",
       "</div>"
      ],
      "text/plain": [
       "   NDB_No                   Long_Desc  FdGrp_Cd              FdGrp_Desc\n",
       "0    1001              Butter, salted       100  Dairy and Egg Products\n",
       "1    1002  Butter, whipped, with salt       100  Dairy and Egg Products\n",
       "2    1003       Butter oil, anhydrous       100  Dairy and Egg Products\n",
       "3    1004                Cheese, blue       100  Dairy and Egg Products\n",
       "4    1005               Cheese, brick       100  Dairy and Egg Products"
      ]
     },
     "execution_count": 197,
     "metadata": {},
     "output_type": "execute_result"
    }
   ],
   "source": [
    "df= pd.read_csv('../data/input/food_category.csv')\n",
    "df.head()"
   ]
  },
  {
   "cell_type": "code",
   "execution_count": 198,
   "metadata": {},
   "outputs": [],
   "source": [
    "df['NDB_No']= df['NDB_No'].astype(str).str.rjust(5,'0')"
   ]
  },
  {
   "cell_type": "code",
   "execution_count": 199,
   "metadata": {},
   "outputs": [],
   "source": [
    "food2cat ={}\n",
    "food_label_map= {}\n",
    "food_id_map ={}\n",
    "for i, row in df.iterrows():\n",
    "    uri = 'http://idea.rpi.edu/heals/kb/usda#'+row['NDB_No']\n",
    "    label = row['Long_Desc'].strip()\n",
    "    cat = row['FdGrp_Desc']\n",
    "    food2cat[uri] = cat\n",
    "    food_label_map[uri] = label\n",
    "    food_id_map[label] = uri"
   ]
  },
  {
   "cell_type": "code",
   "execution_count": 200,
   "metadata": {},
   "outputs": [],
   "source": [
    "def get_simscore_ingrank_onlyss_multisamerank(fromt, asdf):\n",
    "    # return rank based on KG embedding +revised nutriscore\n",
    "    TOPK=len(word_vectors.vocab)\n",
    "    mostSimilar =word_vectors.most_similar(fromt, topn=TOPK)\n",
    "    for i,(e, sim) in enumerate(mostSimilar):\n",
    "        if e == asdf:\n",
    "            return i+1    \n",
    "    return TOPK\n"
   ]
  },
  {
   "cell_type": "code",
   "execution_count": 201,
   "metadata": {},
   "outputs": [],
   "source": [
    "def get_simscore_ingrank_category_multisamerank(fromt, asdf):\n",
    "    # return rank based on KG embedding +revised nutriscore\n",
    "    TOPK=len(word_vectors.vocab)\n",
    "    mostSimilar =word_vectors.most_similar(fromt, topn=TOPK)\n",
    "    i = 0\n",
    "    for e, sim in mostSimilar:\n",
    "        if e not in food2cat or food2cat[asdf] != food2cat[e]: continue\n",
    "        if e == asdf:\n",
    "            return i+1 \n",
    "        i+=1\n",
    "    return TOPK"
   ]
  },
  {
   "cell_type": "code",
   "execution_count": 202,
   "metadata": {},
   "outputs": [],
   "source": [
    "def mrr_map_new(scraped_subs_dict, opt = 1):\n",
    "    rank_scores = []\n",
    "    ave_p = []\n",
    "    in_top_5 = 0\n",
    "    in_top_10 = 0\n",
    "    print('number of ings: ',len(scraped_subs_dict.keys()))\n",
    "\n",
    "    for fromt in sorted(scraped_subs_dict.keys()):\n",
    "        relevant_ranks = []\n",
    "        min_rank = 9999999999999999\n",
    "        for asdf in scraped_subs_dict[fromt]:\n",
    "            if opt == 1:\n",
    "                rank = get_simscore_ingrank_onlyss_multisamerank(fromt, asdf)\n",
    "            elif opt == 2:\n",
    "                rank = get_simscore_ingrank_category_multisamerank(fromt, asdf)   \n",
    "            relevant_ranks.append(rank)\n",
    "            if rank < min_rank:\n",
    "                min_rank = rank\n",
    "        rank = min_rank\n",
    "        rank_scores.append(1.0/rank)\n",
    "        if min_rank <= 5:\n",
    "            in_top_5 += 1\n",
    "        if min_rank <= 10:\n",
    "            in_top_10 += 1\n",
    "        precisions = []\n",
    "        for rank in relevant_ranks:\n",
    "            good_docs = len([r for r in relevant_ranks if r <= rank])\n",
    "            precisions.append(good_docs/rank)\n",
    "        if len(precisions) == 0:\n",
    "            precisions = [0]\n",
    "        ave_p.append(np.mean(precisions))\n",
    "    print('mean reciprocal rank: ', np.mean(rank_scores))\n",
    "    print('recallrate at 5: ', in_top_5/len(scraped_subs_dict.keys()))\n",
    "    print('recallrate at 10: ', in_top_10/len(scraped_subs_dict.keys()))\n",
    "    print('mean average precision: ', np.mean(ave_p))\n",
    "    print('formatted')\n",
    "    print(round(np.mean(ave_p), 3),' & ',round(np.mean(rank_scores), 3),' & ',round(in_top_5/len(scraped_subs_dict.keys()), 3),' & ',round(in_top_10/len(scraped_subs_dict.keys()), 3))\n",
    "    return round(np.mean(ave_p), 3)\n"
   ]
  },
  {
   "cell_type": "code",
   "execution_count": 203,
   "metadata": {},
   "outputs": [
    {
     "data": {
      "text/html": [
       "<div>\n",
       "<style scoped>\n",
       "    .dataframe tbody tr th:only-of-type {\n",
       "        vertical-align: middle;\n",
       "    }\n",
       "\n",
       "    .dataframe tbody tr th {\n",
       "        vertical-align: top;\n",
       "    }\n",
       "\n",
       "    .dataframe thead th {\n",
       "        text-align: right;\n",
       "    }\n",
       "</style>\n",
       "<table border=\"1\" class=\"dataframe\">\n",
       "  <thead>\n",
       "    <tr style=\"text-align: right;\">\n",
       "      <th></th>\n",
       "      <th>Food id</th>\n",
       "      <th>Food label</th>\n",
       "      <th>Substitution id</th>\n",
       "      <th>Substitution label</th>\n",
       "    </tr>\n",
       "  </thead>\n",
       "  <tbody>\n",
       "    <tr>\n",
       "      <th>0</th>\n",
       "      <td>http://idea.rpi.edu/heals/kb/usda#01001</td>\n",
       "      <td>Butter, salted</td>\n",
       "      <td>http://idea.rpi.edu/heals/kb/usda#04506</td>\n",
       "      <td>Oil, sunflower, linoleic</td>\n",
       "    </tr>\n",
       "    <tr>\n",
       "      <th>1</th>\n",
       "      <td>http://idea.rpi.edu/heals/kb/usda#01001</td>\n",
       "      <td>Butter, salted</td>\n",
       "      <td>http://idea.rpi.edu/heals/kb/usda#04679</td>\n",
       "      <td>Oil, PAM cooking spray, original</td>\n",
       "    </tr>\n",
       "    <tr>\n",
       "      <th>2</th>\n",
       "      <td>http://idea.rpi.edu/heals/kb/usda#01001</td>\n",
       "      <td>Butter, salted</td>\n",
       "      <td>http://idea.rpi.edu/heals/kb/usda#04053</td>\n",
       "      <td>Oil, olive, salad or cooking</td>\n",
       "    </tr>\n",
       "    <tr>\n",
       "      <th>3</th>\n",
       "      <td>http://idea.rpi.edu/heals/kb/usda#01001</td>\n",
       "      <td>Butter, salted</td>\n",
       "      <td>http://idea.rpi.edu/heals/kb/usda#04128</td>\n",
       "      <td>Margarine,spread, 35-39% fat</td>\n",
       "    </tr>\n",
       "    <tr>\n",
       "      <th>4</th>\n",
       "      <td>http://idea.rpi.edu/heals/kb/usda#01001</td>\n",
       "      <td>Butter, salted</td>\n",
       "      <td>http://idea.rpi.edu/heals/kb/usda#04601</td>\n",
       "      <td>Butter, light, stick</td>\n",
       "    </tr>\n",
       "  </tbody>\n",
       "</table>\n",
       "</div>"
      ],
      "text/plain": [
       "                                   Food id      Food label  \\\n",
       "0  http://idea.rpi.edu/heals/kb/usda#01001  Butter, salted   \n",
       "1  http://idea.rpi.edu/heals/kb/usda#01001  Butter, salted   \n",
       "2  http://idea.rpi.edu/heals/kb/usda#01001  Butter, salted   \n",
       "3  http://idea.rpi.edu/heals/kb/usda#01001  Butter, salted   \n",
       "4  http://idea.rpi.edu/heals/kb/usda#01001  Butter, salted   \n",
       "\n",
       "                           Substitution id                Substitution label  \n",
       "0  http://idea.rpi.edu/heals/kb/usda#04506         Oil, sunflower, linoleic   \n",
       "1  http://idea.rpi.edu/heals/kb/usda#04679  Oil, PAM cooking spray, original  \n",
       "2  http://idea.rpi.edu/heals/kb/usda#04053      Oil, olive, salad or cooking  \n",
       "3  http://idea.rpi.edu/heals/kb/usda#04128      Margarine,spread, 35-39% fat  \n",
       "4  http://idea.rpi.edu/heals/kb/usda#04601              Butter, light, stick  "
      ]
     },
     "execution_count": 203,
     "metadata": {},
     "output_type": "execute_result"
    }
   ],
   "source": [
    "subs_df =pd.read_csv('../data/final_substitution.csv')\n",
    "#subs_df =pd.read_csv('../data/final_substitution_unsorted.csv')\n",
    "subs_df.head()"
   ]
  },
  {
   "cell_type": "code",
   "execution_count": 204,
   "metadata": {},
   "outputs": [
    {
     "data": {
      "text/html": [
       "<div>\n",
       "<style scoped>\n",
       "    .dataframe tbody tr th:only-of-type {\n",
       "        vertical-align: middle;\n",
       "    }\n",
       "\n",
       "    .dataframe tbody tr th {\n",
       "        vertical-align: top;\n",
       "    }\n",
       "\n",
       "    .dataframe thead th {\n",
       "        text-align: right;\n",
       "    }\n",
       "</style>\n",
       "<table border=\"1\" class=\"dataframe\">\n",
       "  <thead>\n",
       "    <tr style=\"text-align: right;\">\n",
       "      <th></th>\n",
       "      <th>Food id</th>\n",
       "      <th>Food label</th>\n",
       "      <th>Substitution id</th>\n",
       "      <th>Substitution label</th>\n",
       "    </tr>\n",
       "  </thead>\n",
       "  <tbody>\n",
       "    <tr>\n",
       "      <th>20</th>\n",
       "      <td>http://idea.rpi.edu/heals/kb/usda#01006</td>\n",
       "      <td>Cheese, brie</td>\n",
       "      <td>http://idea.rpi.edu/heals/kb/usda#01019</td>\n",
       "      <td>Cheese, feta</td>\n",
       "    </tr>\n",
       "    <tr>\n",
       "      <th>21</th>\n",
       "      <td>http://idea.rpi.edu/heals/kb/usda#01006</td>\n",
       "      <td>Cheese, brie</td>\n",
       "      <td>http://idea.rpi.edu/heals/kb/usda#01004</td>\n",
       "      <td>Cheese, blue</td>\n",
       "    </tr>\n",
       "    <tr>\n",
       "      <th>22</th>\n",
       "      <td>http://idea.rpi.edu/heals/kb/usda#01006</td>\n",
       "      <td>Cheese, brie</td>\n",
       "      <td>http://idea.rpi.edu/heals/kb/usda#01022</td>\n",
       "      <td>Cheese, gouda</td>\n",
       "    </tr>\n",
       "    <tr>\n",
       "      <th>23</th>\n",
       "      <td>http://idea.rpi.edu/heals/kb/usda#01006</td>\n",
       "      <td>Cheese, brie</td>\n",
       "      <td>http://idea.rpi.edu/heals/kb/usda#01251</td>\n",
       "      <td>Cheese, Mexican blend</td>\n",
       "    </tr>\n",
       "  </tbody>\n",
       "</table>\n",
       "</div>"
      ],
      "text/plain": [
       "                                    Food id    Food label  \\\n",
       "20  http://idea.rpi.edu/heals/kb/usda#01006  Cheese, brie   \n",
       "21  http://idea.rpi.edu/heals/kb/usda#01006  Cheese, brie   \n",
       "22  http://idea.rpi.edu/heals/kb/usda#01006  Cheese, brie   \n",
       "23  http://idea.rpi.edu/heals/kb/usda#01006  Cheese, brie   \n",
       "\n",
       "                            Substitution id     Substitution label  \n",
       "20  http://idea.rpi.edu/heals/kb/usda#01019           Cheese, feta  \n",
       "21  http://idea.rpi.edu/heals/kb/usda#01004           Cheese, blue  \n",
       "22  http://idea.rpi.edu/heals/kb/usda#01022          Cheese, gouda  \n",
       "23  http://idea.rpi.edu/heals/kb/usda#01251  Cheese, Mexican blend  "
      ]
     },
     "execution_count": 204,
     "metadata": {},
     "output_type": "execute_result"
    }
   ],
   "source": [
    "subs_df[subs_df['Food id']=='http://idea.rpi.edu/heals/kb/usda#01006']"
   ]
  },
  {
   "cell_type": "code",
   "execution_count": 205,
   "metadata": {},
   "outputs": [
    {
     "data": {
      "text/plain": [
       "1847"
      ]
     },
     "execution_count": 205,
     "metadata": {},
     "output_type": "execute_result"
    }
   ],
   "source": [
    "len(subs_df)"
   ]
  },
  {
   "cell_type": "code",
   "execution_count": 206,
   "metadata": {},
   "outputs": [],
   "source": [
    "ground_truth_foods= set(subs_df['Food id'].unique()).union(subs_df['Substitution id'].unique())"
   ]
  },
  {
   "cell_type": "code",
   "execution_count": 207,
   "metadata": {},
   "outputs": [
    {
     "data": {
      "text/plain": [
       "785"
      ]
     },
     "execution_count": 207,
     "metadata": {},
     "output_type": "execute_result"
    }
   ],
   "source": [
    "len(ground_truth_foods)"
   ]
  },
  {
   "cell_type": "code",
   "execution_count": 208,
   "metadata": {},
   "outputs": [
    {
     "name": "stdout",
     "output_type": "stream",
     "text": [
      "http://idea.rpi.edu/heals/kb/usda#01053 http://idea.rpi.edu/heals/kb/usda#01065 not in embeddings\n",
      "http://idea.rpi.edu/heals/kb/usda#01088 http://idea.rpi.edu/heals/kb/usda#01289 not in embeddings\n",
      "http://idea.rpi.edu/heals/kb/usda#01088 http://idea.rpi.edu/heals/kb/usda#01065 not in embeddings\n",
      "http://idea.rpi.edu/heals/kb/usda#09206 http://idea.rpi.edu/heals/kb/usda#09212 not in embeddings\n",
      "http://idea.rpi.edu/heals/kb/usda#12147 http://idea.rpi.edu/heals/kb/usda#12157 not in embeddings\n"
     ]
    }
   ],
   "source": [
    "scraped_subs_dict = dict()\n",
    "\n",
    "for i,row in subs_df.iterrows():\n",
    "    #print (ast.literal_eval(row[2]))\n",
    "    #print  (food_id_map[row[1]])\n",
    "    food= row['Food id']\n",
    "    subs = row['Substitution id']\n",
    "    if food in word_vectors and subs in word_vectors and food in food2cat and subs in food2cat:\n",
    "        if food not in scraped_subs_dict:\n",
    "            scraped_subs_dict[food]= set()\n",
    "        \n",
    "        scraped_subs_dict[food].add(subs)\n",
    "    else:\n",
    "        print (food, subs, 'not in embeddings')\n",
    "\n"
   ]
  },
  {
   "cell_type": "code",
   "execution_count": 209,
   "metadata": {},
   "outputs": [
    {
     "data": {
      "text/plain": [
       "{'http://idea.rpi.edu/heals/kb/usda#01004',\n",
       " 'http://idea.rpi.edu/heals/kb/usda#01019',\n",
       " 'http://idea.rpi.edu/heals/kb/usda#01022',\n",
       " 'http://idea.rpi.edu/heals/kb/usda#01251'}"
      ]
     },
     "execution_count": 209,
     "metadata": {},
     "output_type": "execute_result"
    }
   ],
   "source": [
    "scraped_subs_dict['http://idea.rpi.edu/heals/kb/usda#01006']"
   ]
  },
  {
   "cell_type": "code",
   "execution_count": 210,
   "metadata": {},
   "outputs": [
    {
     "name": "stdout",
     "output_type": "stream",
     "text": [
      "1842\n"
     ]
    }
   ],
   "source": [
    "n=0\n",
    "for key in scraped_subs_dict:\n",
    "    n+=len(scraped_subs_dict[key])\n",
    "    \n",
    "print (n)"
   ]
  },
  {
   "cell_type": "code",
   "execution_count": 211,
   "metadata": {},
   "outputs": [
    {
     "name": "stdout",
     "output_type": "stream",
     "text": [
      "number of ings:  370\n",
      "mean reciprocal rank:  0.2335069870116246\n",
      "recallrate at 5:  0.32972972972972975\n",
      "recallrate at 10:  0.4\n",
      "mean average precision:  0.13273214969551803\n",
      "formatted\n",
      "0.133  &  0.234  &  0.33  &  0.4\n"
     ]
    },
    {
     "data": {
      "text/plain": [
       "0.133"
      ]
     },
     "execution_count": 211,
     "metadata": {},
     "output_type": "execute_result"
    }
   ],
   "source": [
    "mrr_map_new(scraped_subs_dict,1)"
   ]
  },
  {
   "cell_type": "code",
   "execution_count": 212,
   "metadata": {},
   "outputs": [
    {
     "name": "stdout",
     "output_type": "stream",
     "text": [
      "number of ings:  370\n",
      "mean reciprocal rank:  0.2585016589686655\n",
      "recallrate at 5:  0.35945945945945945\n",
      "recallrate at 10:  0.43783783783783786\n",
      "mean average precision:  0.1541059924779764\n",
      "formatted\n",
      "0.154  &  0.259  &  0.359  &  0.438\n"
     ]
    },
    {
     "data": {
      "text/plain": [
       "0.154"
      ]
     },
     "execution_count": 212,
     "metadata": {},
     "output_type": "execute_result"
    }
   ],
   "source": [
    "mrr_map_new(scraped_subs_dict,2)"
   ]
  },
  {
   "cell_type": "code",
   "execution_count": 213,
   "metadata": {},
   "outputs": [
    {
     "name": "stdout",
     "output_type": "stream",
     "text": [
      "Oil, canola 2\n",
      "Oil, corn, industrial and retail, all purpose salad or cooking 4\n",
      "Oil, sesame, salad or cooking 5\n",
      "Oil, walnut 7\n",
      "Oil, peanut, salad or cooking 10\n",
      "Shortening, vegetable, household, composite 16\n",
      "Oil, olive, salad or cooking 19\n",
      "Lard 21\n",
      "USDA Commodity Food, oil, vegetable, soybean, refined 24\n",
      "Margarine-like, margarine-butter blend, soybean oil and butter 113\n",
      "Butter oil, anhydrous 488\n",
      "Margarine, regular, hard, soybean (hydrogenated) 2617\n"
     ]
    }
   ],
   "source": [
    "TOPK=len(word_vectors.vocab)\n",
    "fromt= 'http://idea.rpi.edu/heals/kb/usda#04047'\n",
    "#Oil, coconut\n",
    "#mostSimilar =word_vectors.most_similar(asdf, topn=TOPK)\n",
    "mostSimilar =word_vectors.most_similar(fromt, topn=TOPK)\n",
    "gt_subs_list = scraped_subs_dict[fromt]\n",
    "i=1\n",
    "for (e, sim) in mostSimilar:\n",
    "    #if e not in food2cat or food2cat[fromt] != food2cat[e]: continue\n",
    "    #if e not in ground_truth_foods: continue\n",
    "    if e in gt_subs_list:\n",
    "        print (food_label_map[e],i)\n",
    "    i+=1"
   ]
  },
  {
   "cell_type": "code",
   "execution_count": 214,
   "metadata": {},
   "outputs": [
    {
     "name": "stdout",
     "output_type": "stream",
     "text": [
      "Sauerkraut, canned, solids and liquids 4\n",
      "Cauliflower, green, raw 10\n",
      "Cabbage, red, raw 13\n",
      "Cabbage, chinese (pak-choi), raw 17\n",
      "Mustard greens, raw 49\n",
      "Cress, garden, raw 54\n",
      "Broccoli, raw 61\n",
      "Brussels sprouts, raw 96\n"
     ]
    }
   ],
   "source": [
    "\n",
    "TOPK=len(word_vectors.vocab)\n",
    "fromt= 'http://idea.rpi.edu/heals/kb/usda#11109'\n",
    "#Cabbage, raw\n",
    "#mostSimilar =word_vectors.most_similar(asdf, topn=TOPK)\n",
    "mostSimilar =word_vectors.most_similar(fromt, topn=TOPK)\n",
    "gt_subs_list = scraped_subs_dict[fromt]\n",
    "i=1\n",
    "for (e, sim) in mostSimilar:\n",
    "    #if e not in food2cat or food2cat[fromt] != food2cat[e]: continue\n",
    "    #if e not in ground_truth_foods: continue\n",
    "    if e in gt_subs_list:\n",
    "        print (food_label_map[e],i)\n",
    "    i+=1"
   ]
  },
  {
   "cell_type": "code",
   "execution_count": 215,
   "metadata": {},
   "outputs": [
    {
     "name": "stdout",
     "output_type": "stream",
     "text": [
      "Sweet potato, raw, unprepared 77\n",
      "Taro, raw 82\n",
      "Burdock root, raw 91\n",
      "Mountain yam, hawaii, raw 95\n",
      "Cassava, raw 158\n",
      "Chicory roots, raw 280\n",
      "Salsify, (vegetable oyster), raw 433\n",
      "Lotus root, raw 437\n",
      "Ginger root, raw 521\n",
      "Arrowhead, raw 632\n",
      "Chicory, witloof, raw 636\n"
     ]
    }
   ],
   "source": [
    "TOPK=len(word_vectors.vocab)\n",
    "fromt= 'http://idea.rpi.edu/heals/kb/usda#11601'\n",
    "#Yam, raw\n",
    "#mostSimilar =word_vectors.most_similar(asdf, topn=TOPK)\n",
    "mostSimilar =word_vectors.most_similar(fromt, topn=TOPK)\n",
    "gt_subs_list = scraped_subs_dict[fromt]\n",
    "i=1\n",
    "for (e, sim) in mostSimilar:\n",
    "    #if e not in food2cat or food2cat[fromt] != food2cat[e]: continue\n",
    "    #if e not in ground_truth_foods: continue\n",
    "    if e in gt_subs_list:\n",
    "        print (food_label_map[e],i)\n",
    "    i+=1"
   ]
  },
  {
   "cell_type": "code",
   "execution_count": 216,
   "metadata": {},
   "outputs": [
    {
     "name": "stdout",
     "output_type": "stream",
     "text": [
      "Kielbasa, fully cooked, grilled 100\n",
      "Bologna, pork 2106\n",
      "Ham, minced 2447\n",
      "Smoked link sausage, pork 3406\n",
      "Mushrooms, shiitake, raw 5703\n",
      "Meatballs, frozen, Italian style 6009\n",
      "Beef, grass-fed, ground, raw 7902\n",
      "Chickpeas (garbanzo beans, bengal gram), mature seeds, raw 8267\n"
     ]
    }
   ],
   "source": [
    "\n",
    "fromt= 'http://idea.rpi.edu/heals/kb/usda#07005'\n",
    "#Yam, raw\n",
    "#mostSimilar =word_vectors.most_similar(asdf, topn=TOPK)\n",
    "mostSimilar =word_vectors.most_similar(fromt, topn=TOPK)\n",
    "gt_subs_list = scraped_subs_dict[fromt]\n",
    "i=1\n",
    "for (e, sim) in mostSimilar:\n",
    "    #if e not in ground_truth_foods: continue\n",
    "    #if e not in food2cat or food2cat[fromt] != food2cat[e]: continue\n",
    "    if e in gt_subs_list:\n",
    "        print (food_label_map[e],i)\n",
    "    i+=1"
   ]
  },
  {
   "cell_type": "code",
   "execution_count": null,
   "metadata": {},
   "outputs": [],
   "source": []
  }
 ],
 "metadata": {
  "kernelspec": {
   "display_name": "Python 3",
   "language": "python",
   "name": "python3"
  },
  "language_info": {
   "codemirror_mode": {
    "name": "ipython",
    "version": 3
   },
   "file_extension": ".py",
   "mimetype": "text/x-python",
   "name": "python",
   "nbconvert_exporter": "python",
   "pygments_lexer": "ipython3",
   "version": "3.8.3"
  }
 },
 "nbformat": 4,
 "nbformat_minor": 4
}
