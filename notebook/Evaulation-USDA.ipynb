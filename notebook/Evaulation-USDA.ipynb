{
 "cells": [
  {
   "cell_type": "code",
   "execution_count": 2,
   "metadata": {},
   "outputs": [],
   "source": [
    "import numpy as np\n",
    "import random"
   ]
  },
  {
   "cell_type": "code",
   "execution_count": 3,
   "metadata": {},
   "outputs": [],
   "source": [
    "import pandas as pd\n",
    "import ast"
   ]
  },
  {
   "cell_type": "code",
   "execution_count": 4,
   "metadata": {},
   "outputs": [],
   "source": [
    "from gensim.models import KeyedVectors\n",
    "from gensim.test.utils import datapath"
   ]
  },
  {
   "cell_type": "code",
   "execution_count": 171,
   "metadata": {},
   "outputs": [],
   "source": [
    "word_vectors = KeyedVectors.load_word2vec_format('../data/embedding/rdf2vec_vectors_15_06_2021.txt', binary=False)\n",
    "\n",
    "# C text format"
   ]
  },
  {
   "cell_type": "code",
   "execution_count": 172,
   "metadata": {},
   "outputs": [
    {
     "data": {
      "text/plain": [
       "[('http://idea.rpi.edu/heals/kb/usda#04042', 0.9453282356262207),\n",
       " ('http://idea.rpi.edu/heals/kb/usda#04585', 0.9446382522583008),\n",
       " ('http://idea.rpi.edu/heals/kb/usda#18248', 0.9445690512657166),\n",
       " ('http://idea.rpi.edu/heals/kb/usda#01236', 0.944229245185852),\n",
       " ('http://idea.rpi.edu/heals/kb/usda#42135', 0.9411625862121582)]"
      ]
     },
     "execution_count": 172,
     "metadata": {},
     "output_type": "execute_result"
    }
   ],
   "source": [
    "word_vectors.most_similar('http://idea.rpi.edu/heals/kb/usda#01003', topn=5)"
   ]
  },
  {
   "cell_type": "code",
   "execution_count": 176,
   "metadata": {},
   "outputs": [
    {
     "data": {
      "text/html": [
       "<div>\n",
       "<style scoped>\n",
       "    .dataframe tbody tr th:only-of-type {\n",
       "        vertical-align: middle;\n",
       "    }\n",
       "\n",
       "    .dataframe tbody tr th {\n",
       "        vertical-align: top;\n",
       "    }\n",
       "\n",
       "    .dataframe thead th {\n",
       "        text-align: right;\n",
       "    }\n",
       "</style>\n",
       "<table border=\"1\" class=\"dataframe\">\n",
       "  <thead>\n",
       "    <tr style=\"text-align: right;\">\n",
       "      <th></th>\n",
       "      <th>Unnamed: 0</th>\n",
       "      <th>foods</th>\n",
       "      <th>labels</th>\n",
       "      <th>ingredients</th>\n",
       "      <th>nutri_values</th>\n",
       "      <th>nutri_scores</th>\n",
       "    </tr>\n",
       "  </thead>\n",
       "  <tbody>\n",
       "    <tr>\n",
       "      <th>0</th>\n",
       "      <td>0</td>\n",
       "      <td>http://idea.rpi.edu/heals/kb/usda#01001</td>\n",
       "      <td>BUTTER,WITH SALT</td>\n",
       "      <td>['http://www.w3id.org/foodkg/usda#GmWt_1-X_wFU...</td>\n",
       "      <td>19</td>\n",
       "      <td>E</td>\n",
       "    </tr>\n",
       "    <tr>\n",
       "      <th>1</th>\n",
       "      <td>1</td>\n",
       "      <td>http://idea.rpi.edu/heals/kb/usda#01002</td>\n",
       "      <td>BUTTER,WHIPPED,WITH SALT</td>\n",
       "      <td>['http://www.w3id.org/foodkg/usda#GmWt_1-qmUAd...</td>\n",
       "      <td>19</td>\n",
       "      <td>E</td>\n",
       "    </tr>\n",
       "    <tr>\n",
       "      <th>2</th>\n",
       "      <td>2</td>\n",
       "      <td>http://idea.rpi.edu/heals/kb/usda#01003</td>\n",
       "      <td>BUTTER OIL,ANHYDROUS</td>\n",
       "      <td>['http://www.w3id.org/foodkg/usda#GmWt_1-JG6dQ...</td>\n",
       "      <td>12</td>\n",
       "      <td>D</td>\n",
       "    </tr>\n",
       "    <tr>\n",
       "      <th>3</th>\n",
       "      <td>3</td>\n",
       "      <td>http://idea.rpi.edu/heals/kb/usda#01004</td>\n",
       "      <td>CHEESE,BLUE</td>\n",
       "      <td>['http://www.w3id.org/foodkg/usda#GmWt_1-3aSX_...</td>\n",
       "      <td>16</td>\n",
       "      <td>D</td>\n",
       "    </tr>\n",
       "    <tr>\n",
       "      <th>4</th>\n",
       "      <td>4</td>\n",
       "      <td>http://idea.rpi.edu/heals/kb/usda#01005</td>\n",
       "      <td>CHEESE,BRICK</td>\n",
       "      <td>['http://www.w3id.org/foodkg/usda#GmWt_1-hPYzg...</td>\n",
       "      <td>12</td>\n",
       "      <td>D</td>\n",
       "    </tr>\n",
       "  </tbody>\n",
       "</table>\n",
       "</div>"
      ],
      "text/plain": [
       "   Unnamed: 0                                    foods  \\\n",
       "0           0  http://idea.rpi.edu/heals/kb/usda#01001   \n",
       "1           1  http://idea.rpi.edu/heals/kb/usda#01002   \n",
       "2           2  http://idea.rpi.edu/heals/kb/usda#01003   \n",
       "3           3  http://idea.rpi.edu/heals/kb/usda#01004   \n",
       "4           4  http://idea.rpi.edu/heals/kb/usda#01005   \n",
       "\n",
       "                     labels  \\\n",
       "0          BUTTER,WITH SALT   \n",
       "1  BUTTER,WHIPPED,WITH SALT   \n",
       "2      BUTTER OIL,ANHYDROUS   \n",
       "3               CHEESE,BLUE   \n",
       "4              CHEESE,BRICK   \n",
       "\n",
       "                                         ingredients  nutri_values  \\\n",
       "0  ['http://www.w3id.org/foodkg/usda#GmWt_1-X_wFU...            19   \n",
       "1  ['http://www.w3id.org/foodkg/usda#GmWt_1-qmUAd...            19   \n",
       "2  ['http://www.w3id.org/foodkg/usda#GmWt_1-JG6dQ...            12   \n",
       "3  ['http://www.w3id.org/foodkg/usda#GmWt_1-3aSX_...            16   \n",
       "4  ['http://www.w3id.org/foodkg/usda#GmWt_1-hPYzg...            12   \n",
       "\n",
       "  nutri_scores  \n",
       "0            E  \n",
       "1            E  \n",
       "2            D  \n",
       "3            D  \n",
       "4            D  "
      ]
     },
     "execution_count": 176,
     "metadata": {},
     "output_type": "execute_result"
    }
   ],
   "source": [
    "df= pd.read_csv('../data/usda_nutriscores.csv')\n",
    "df.head()"
   ]
  },
  {
   "cell_type": "code",
   "execution_count": 177,
   "metadata": {},
   "outputs": [],
   "source": [
    "df= df[['foods', 'nutri_values']]"
   ]
  },
  {
   "cell_type": "code",
   "execution_count": 178,
   "metadata": {},
   "outputs": [],
   "source": [
    "nutriscore ={}\n",
    "for i, row in df.iterrows():\n",
    "    nutriscore[row['foods']] = row['nutri_values']"
   ]
  },
  {
   "cell_type": "code",
   "execution_count": 179,
   "metadata": {},
   "outputs": [
    {
     "data": {
      "text/plain": [
       "[('http://idea.rpi.edu/heals/kb/usda#01001', 19),\n",
       " ('http://idea.rpi.edu/heals/kb/usda#01002', 19),\n",
       " ('http://idea.rpi.edu/heals/kb/usda#01003', 12),\n",
       " ('http://idea.rpi.edu/heals/kb/usda#01004', 16),\n",
       " ('http://idea.rpi.edu/heals/kb/usda#01005', 12),\n",
       " ('http://idea.rpi.edu/heals/kb/usda#01006', 11),\n",
       " ('http://idea.rpi.edu/heals/kb/usda#01007', 14),\n",
       " ('http://idea.rpi.edu/heals/kb/usda#01008', 13),\n",
       " ('http://idea.rpi.edu/heals/kb/usda#01009', 13),\n",
       " ('http://idea.rpi.edu/heals/kb/usda#01010', 13)]"
      ]
     },
     "execution_count": 179,
     "metadata": {},
     "output_type": "execute_result"
    }
   ],
   "source": [
    "list(nutriscore.items())[:10]"
   ]
  },
  {
   "cell_type": "code",
   "execution_count": 159,
   "metadata": {},
   "outputs": [],
   "source": [
    "def get_simscore_ingrank_onlyss_multisamerank(fromt, asdf):\n",
    "    # return rank based on KG embedding +revised nutriscore\n",
    "    TOPK=500\n",
    "    mostSimilar =word_vectors.most_similar(fromt, topn=TOPK)\n",
    "    for i,(e, sim) in enumerate(mostSimilar):\n",
    "        if e == asdf:\n",
    "            return i+1    \n",
    "    return TOPK"
   ]
  },
  {
   "cell_type": "code",
   "execution_count": 150,
   "metadata": {},
   "outputs": [],
   "source": [
    "def get_simscore_ingrank_kg_nutriscore_multisamerank(fromt, asdf):\n",
    "    # return rank based on KG embedding +revised nutriscore\n",
    "    TOPK=20\n",
    "    mostSimilar =word_vectors.most_similar(fromt, topn=TOPK)\n",
    "    nutriscore_ranking= [ (e,nutriscore[e]) for (e, sim) in mostSimilar if e in nutriscore]\n",
    "    nutriscore_ranking= sorted(nutriscore_ranking, key= lambda x:x[1])\n",
    "    #print (nutriscore_ranking)\n",
    "    for i,(e, sim) in enumerate(nutriscore_ranking):\n",
    "        if e == asdf:\n",
    "            return i+1    \n",
    "    return TOPK"
   ]
  },
  {
   "cell_type": "code",
   "execution_count": 151,
   "metadata": {},
   "outputs": [],
   "source": [
    "def mrr_map_new(scraped_subs_dict, opt = 1):\n",
    "    rank_scores = []\n",
    "    ave_p = []\n",
    "    in_top_5 = 0\n",
    "    in_top_10 = 0\n",
    "    print('number of ings: ',len(scraped_subs_dict.keys()))\n",
    "\n",
    "    for fromt in scraped_subs_dict.keys():\n",
    "        relevant_ranks = []\n",
    "        min_rank = 9999999999999999\n",
    "        for asdf in scraped_subs_dict[fromt]:\n",
    "            if opt == 1:\n",
    "                rank = get_simscore_ingrank_onlyss_multisamerank(fromt, asdf)\n",
    "            elif opt == 2:\n",
    "                rank = get_simscore_ingrank_kg_nutriscore_multisamerank(fromt, asdf)   \n",
    "            relevant_ranks.append(rank)\n",
    "            if rank < min_rank:\n",
    "                min_rank = rank\n",
    "        rank = min_rank\n",
    "\n",
    "        rank_scores.append(1.0/rank)\n",
    "        if min_rank <= 5:\n",
    "            in_top_5 += 1\n",
    "        if min_rank <= 10:\n",
    "            in_top_10 += 1\n",
    "\n",
    "        precisions = []\n",
    "        for rank in relevant_ranks:\n",
    "            good_docs = len([r for r in relevant_ranks if r <= rank])\n",
    "            precisions.append(good_docs/rank)\n",
    "        if len(precisions) == 0:\n",
    "            precisions = [0]\n",
    "        ave_p.append(np.mean(precisions))\n",
    "\n",
    "    print('mean reciprocal rank: ', np.mean(rank_scores))\n",
    "    print('recallrate at 5: ', in_top_5/len(scraped_subs_dict.keys()))\n",
    "    print('recallrate at 10: ', in_top_10/len(scraped_subs_dict.keys()))\n",
    "    print('mean average precision: ', np.mean(ave_p))\n",
    "    print('formatted')\n",
    "    print(round(np.mean(ave_p), 3),' & ',round(np.mean(rank_scores), 3),' & ',round(in_top_5/len(scraped_subs_dict.keys()), 3),' & ',round(in_top_10/len(scraped_subs_dict.keys()), 3))\n",
    "    return round(np.mean(ave_p), 3)\n"
   ]
  },
  {
   "cell_type": "code",
   "execution_count": 152,
   "metadata": {},
   "outputs": [
    {
     "data": {
      "text/html": [
       "<div>\n",
       "<style scoped>\n",
       "    .dataframe tbody tr th:only-of-type {\n",
       "        vertical-align: middle;\n",
       "    }\n",
       "\n",
       "    .dataframe tbody tr th {\n",
       "        vertical-align: top;\n",
       "    }\n",
       "\n",
       "    .dataframe thead th {\n",
       "        text-align: right;\n",
       "    }\n",
       "</style>\n",
       "<table border=\"1\" class=\"dataframe\">\n",
       "  <thead>\n",
       "    <tr style=\"text-align: right;\">\n",
       "      <th></th>\n",
       "      <th>Food id</th>\n",
       "      <th>Food</th>\n",
       "      <th>Verified Subsititions</th>\n",
       "      <th>Food substitutions</th>\n",
       "      <th>Similar Food</th>\n",
       "    </tr>\n",
       "  </thead>\n",
       "  <tbody>\n",
       "    <tr>\n",
       "      <th>0</th>\n",
       "      <td>usda#09229</td>\n",
       "      <td>Papaya nectar, canned</td>\n",
       "      <td>['Peach nectar, canned, with sucralose', 'Appl...</td>\n",
       "      <td>['Oil, almond', 'SILK Peach soy yogurt', 'Ham,...</td>\n",
       "      <td>['Pickles, cucumber, sweet ', 'Peach nectar, c...</td>\n",
       "    </tr>\n",
       "    <tr>\n",
       "      <th>1</th>\n",
       "      <td>usda#09206</td>\n",
       "      <td>Orange juice, raw</td>\n",
       "      <td>['Mangos, raw', 'Orange juice, chilled, includ...</td>\n",
       "      <td>['Acerola juice, raw', 'Milk, filled, fluid', ...</td>\n",
       "      <td>['Onions, spring or scallions, raw', 'Cauliflo...</td>\n",
       "    </tr>\n",
       "    <tr>\n",
       "      <th>2</th>\n",
       "      <td>usda#09008</td>\n",
       "      <td>Apples, canned, sweetened</td>\n",
       "      <td>['Peach nectar, canned, with sucralose', 'Pome...</td>\n",
       "      <td>['Celery, raw', 'Peaches, yellow, raw', 'Dates...</td>\n",
       "      <td>['Pickles, cucumber, sweet ', 'Peach nectar, c...</td>\n",
       "    </tr>\n",
       "    <tr>\n",
       "      <th>3</th>\n",
       "      <td>usda#04529</td>\n",
       "      <td>Oil, almond</td>\n",
       "      <td>['Oil, sunflower, linoleic', 'Oil, cottonseed,...</td>\n",
       "      <td>['Milk, dry, whole', 'SILK Coffee, soymilk', '...</td>\n",
       "      <td>['Oil, sunflower, linoleic', 'Oil, cottonseed,...</td>\n",
       "    </tr>\n",
       "    <tr>\n",
       "      <th>4</th>\n",
       "      <td>usda#07022</td>\n",
       "      <td>Frankfurter, beef, unheated</td>\n",
       "      <td>['Frankfurter, meat and poultry, unheated', 'S...</td>\n",
       "      <td>['SILK Coffee, soymilk', 'Sauce, peppers, hot'...</td>\n",
       "      <td>['Oil, canola', 'Oil, peanut, salad or cooking...</td>\n",
       "    </tr>\n",
       "  </tbody>\n",
       "</table>\n",
       "</div>"
      ],
      "text/plain": [
       "      Food id                         Food  \\\n",
       "0  usda#09229        Papaya nectar, canned   \n",
       "1  usda#09206            Orange juice, raw   \n",
       "2  usda#09008    Apples, canned, sweetened   \n",
       "3  usda#04529                  Oil, almond   \n",
       "4  usda#07022  Frankfurter, beef, unheated   \n",
       "\n",
       "                               Verified Subsititions  \\\n",
       "0  ['Peach nectar, canned, with sucralose', 'Appl...   \n",
       "1  ['Mangos, raw', 'Orange juice, chilled, includ...   \n",
       "2  ['Peach nectar, canned, with sucralose', 'Pome...   \n",
       "3  ['Oil, sunflower, linoleic', 'Oil, cottonseed,...   \n",
       "4  ['Frankfurter, meat and poultry, unheated', 'S...   \n",
       "\n",
       "                                  Food substitutions  \\\n",
       "0  ['Oil, almond', 'SILK Peach soy yogurt', 'Ham,...   \n",
       "1  ['Acerola juice, raw', 'Milk, filled, fluid', ...   \n",
       "2  ['Celery, raw', 'Peaches, yellow, raw', 'Dates...   \n",
       "3  ['Milk, dry, whole', 'SILK Coffee, soymilk', '...   \n",
       "4  ['SILK Coffee, soymilk', 'Sauce, peppers, hot'...   \n",
       "\n",
       "                                        Similar Food  \n",
       "0  ['Pickles, cucumber, sweet ', 'Peach nectar, c...  \n",
       "1  ['Onions, spring or scallions, raw', 'Cauliflo...  \n",
       "2  ['Pickles, cucumber, sweet ', 'Peach nectar, c...  \n",
       "3  ['Oil, sunflower, linoleic', 'Oil, cottonseed,...  \n",
       "4  ['Oil, canola', 'Oil, peanut, salad or cooking...  "
      ]
     },
     "execution_count": 152,
     "metadata": {},
     "output_type": "execute_result"
    }
   ],
   "source": [
    "subs_df =pd.read_csv('../data/Food_substitution_gt1.tsv', sep='\\t')\n",
    "subs_df.head()"
   ]
  },
  {
   "cell_type": "code",
   "execution_count": 153,
   "metadata": {},
   "outputs": [
    {
     "data": {
      "text/html": [
       "<div>\n",
       "<style scoped>\n",
       "    .dataframe tbody tr th:only-of-type {\n",
       "        vertical-align: middle;\n",
       "    }\n",
       "\n",
       "    .dataframe tbody tr th {\n",
       "        vertical-align: top;\n",
       "    }\n",
       "\n",
       "    .dataframe thead th {\n",
       "        text-align: right;\n",
       "    }\n",
       "</style>\n",
       "<table border=\"1\" class=\"dataframe\">\n",
       "  <thead>\n",
       "    <tr style=\"text-align: right;\">\n",
       "      <th></th>\n",
       "      <th>Food id</th>\n",
       "      <th>Food</th>\n",
       "      <th>Food Short</th>\n",
       "      <th>Verified Food substitutions</th>\n",
       "      <th>Similar Food</th>\n",
       "    </tr>\n",
       "  </thead>\n",
       "  <tbody>\n",
       "    <tr>\n",
       "      <th>0</th>\n",
       "      <td>usda#11090</td>\n",
       "      <td>Broccoli, raw</td>\n",
       "      <td>broccoli</td>\n",
       "      <td>['Squash, summer, all varieties', 'Mustard gre...</td>\n",
       "      <td>['Squash, summer, all varieties', 'Mustard gre...</td>\n",
       "    </tr>\n",
       "    <tr>\n",
       "      <th>1</th>\n",
       "      <td>usda#01040</td>\n",
       "      <td>Cheese, swiss</td>\n",
       "      <td>swiss cheese</td>\n",
       "      <td>['Cheese, fontina', 'Cheese, low-sodium, chedd...</td>\n",
       "      <td>['Cheese, fontina', 'Cheese, low-sodium, chedd...</td>\n",
       "    </tr>\n",
       "    <tr>\n",
       "      <th>2</th>\n",
       "      <td>usda#11445</td>\n",
       "      <td>Seaweed, kelp, raw</td>\n",
       "      <td>kelp</td>\n",
       "      <td>['Seaweed, irishmoss, raw', \"Jew's ear, raw\", ...</td>\n",
       "      <td>['Seaweed, irishmoss, raw', \"Jew's ear, raw\", ...</td>\n",
       "    </tr>\n",
       "    <tr>\n",
       "      <th>3</th>\n",
       "      <td>usda#15065</td>\n",
       "      <td>Fish, pollock, Atlantic</td>\n",
       "      <td>pollock</td>\n",
       "      <td>['Fish, wolffish, Atlantic', 'Fish, salmon, At...</td>\n",
       "      <td>['Fish, wolffish, Atlantic', 'Fish, salmon, At...</td>\n",
       "    </tr>\n",
       "    <tr>\n",
       "      <th>4</th>\n",
       "      <td>usda#20076</td>\n",
       "      <td>Wheat, durum</td>\n",
       "      <td>wheat</td>\n",
       "      <td>['Wheat, soft red winter', 'Wheat, soft white'...</td>\n",
       "      <td>['Wheat, soft red winter', 'Wheat, soft white'...</td>\n",
       "    </tr>\n",
       "  </tbody>\n",
       "</table>\n",
       "</div>"
      ],
      "text/plain": [
       "      Food id                     Food    Food Short  \\\n",
       "0  usda#11090            Broccoli, raw      broccoli   \n",
       "1  usda#01040            Cheese, swiss  swiss cheese   \n",
       "2  usda#11445       Seaweed, kelp, raw          kelp   \n",
       "3  usda#15065  Fish, pollock, Atlantic       pollock   \n",
       "4  usda#20076             Wheat, durum         wheat   \n",
       "\n",
       "                         Verified Food substitutions  \\\n",
       "0  ['Squash, summer, all varieties', 'Mustard gre...   \n",
       "1  ['Cheese, fontina', 'Cheese, low-sodium, chedd...   \n",
       "2  ['Seaweed, irishmoss, raw', \"Jew's ear, raw\", ...   \n",
       "3  ['Fish, wolffish, Atlantic', 'Fish, salmon, At...   \n",
       "4  ['Wheat, soft red winter', 'Wheat, soft white'...   \n",
       "\n",
       "                                        Similar Food  \n",
       "0  ['Squash, summer, all varieties', 'Mustard gre...  \n",
       "1  ['Cheese, fontina', 'Cheese, low-sodium, chedd...  \n",
       "2  ['Seaweed, irishmoss, raw', \"Jew's ear, raw\", ...  \n",
       "3  ['Fish, wolffish, Atlantic', 'Fish, salmon, At...  \n",
       "4  ['Wheat, soft red winter', 'Wheat, soft white'...  "
      ]
     },
     "execution_count": 153,
     "metadata": {},
     "output_type": "execute_result"
    }
   ],
   "source": [
    "subs2_df =pd.read_csv('../data/Food_substitution_gt2.csv')\n",
    "subs2_df.head()"
   ]
  },
  {
   "cell_type": "code",
   "execution_count": 154,
   "metadata": {},
   "outputs": [
    {
     "data": {
      "text/html": [
       "<div>\n",
       "<style scoped>\n",
       "    .dataframe tbody tr th:only-of-type {\n",
       "        vertical-align: middle;\n",
       "    }\n",
       "\n",
       "    .dataframe tbody tr th {\n",
       "        vertical-align: top;\n",
       "    }\n",
       "\n",
       "    .dataframe thead th {\n",
       "        text-align: right;\n",
       "    }\n",
       "</style>\n",
       "<table border=\"1\" class=\"dataframe\">\n",
       "  <thead>\n",
       "    <tr style=\"text-align: right;\">\n",
       "      <th></th>\n",
       "      <th>str</th>\n",
       "      <th>Resource</th>\n",
       "    </tr>\n",
       "  </thead>\n",
       "  <tbody>\n",
       "    <tr>\n",
       "      <th>0</th>\n",
       "      <td>Butter, salted</td>\n",
       "      <td>http://idea.rpi.edu/heals/kb/usda#01001</td>\n",
       "    </tr>\n",
       "    <tr>\n",
       "      <th>1</th>\n",
       "      <td>Butter, whipped, with salt</td>\n",
       "      <td>http://idea.rpi.edu/heals/kb/usda#01002</td>\n",
       "    </tr>\n",
       "    <tr>\n",
       "      <th>2</th>\n",
       "      <td>Butter oil, anhydrous</td>\n",
       "      <td>http://idea.rpi.edu/heals/kb/usda#01003</td>\n",
       "    </tr>\n",
       "    <tr>\n",
       "      <th>3</th>\n",
       "      <td>Cheese, blue</td>\n",
       "      <td>http://idea.rpi.edu/heals/kb/usda#01004</td>\n",
       "    </tr>\n",
       "    <tr>\n",
       "      <th>4</th>\n",
       "      <td>Cheese, brick</td>\n",
       "      <td>http://idea.rpi.edu/heals/kb/usda#01005</td>\n",
       "    </tr>\n",
       "  </tbody>\n",
       "</table>\n",
       "</div>"
      ],
      "text/plain": [
       "                          str                                 Resource\n",
       "0              Butter, salted  http://idea.rpi.edu/heals/kb/usda#01001\n",
       "1  Butter, whipped, with salt  http://idea.rpi.edu/heals/kb/usda#01002\n",
       "2       Butter oil, anhydrous  http://idea.rpi.edu/heals/kb/usda#01003\n",
       "3                Cheese, blue  http://idea.rpi.edu/heals/kb/usda#01004\n",
       "4               Cheese, brick  http://idea.rpi.edu/heals/kb/usda#01005"
      ]
     },
     "execution_count": 154,
     "metadata": {},
     "output_type": "execute_result"
    }
   ],
   "source": [
    "df_usda = pd.read_csv('../data/usda-labels.csv')\n",
    "df_usda.head()"
   ]
  },
  {
   "cell_type": "code",
   "execution_count": 155,
   "metadata": {},
   "outputs": [],
   "source": [
    "food_label_map ={}\n",
    "food_id_map = {}\n",
    "for label, res in df_usda[['str','Resource']].values:\n",
    "    #print(label,res)\n",
    "    if res not in food_label_map:\n",
    "        food_label_map[res] = label\n",
    "        food_id_map[label.strip()] = res"
   ]
  },
  {
   "cell_type": "code",
   "execution_count": 173,
   "metadata": {},
   "outputs": [],
   "source": [
    "scraped_subs_dict = dict()\n",
    "for i,row in subs_df.iterrows():\n",
    "    #print (ast.literal_eval(row[2]))\n",
    "    #print  (food_id_map[row[1]])\n",
    "    subs_list = [ food_id_map[s.strip()] for s in ast.literal_eval(row[2]) ]\n",
    "    if food_id_map[row[1]] in word_vectors:\n",
    "        scraped_subs_dict[food_id_map[row[1]]]= set(subs_list)\n",
    "\n",
    "for i,row in subs2_df.iterrows():\n",
    "    #print (ast.literal_eval(row[2]))\n",
    "    #print  (food_id_map[row[1]])\n",
    "    subs_list = [ food_id_map[s.strip()] for s in ast.literal_eval(row[3]) ]\n",
    "    if food_id_map[row[1]] in word_vectors:\n",
    "        if food_id_map[row[1]] not in scraped_subs_dict:\n",
    "            scraped_subs_dict[food_id_map[row[1]]]= set(subs_list)\n",
    "        else:\n",
    "            scraped_subs_dict[food_id_map[row[1]]].union(set(subs_list))\n",
    "    else:\n",
    "        print (food_id_map[row[1]], row[1], 'not in embeddings')\n",
    "        \n"
   ]
  },
  {
   "cell_type": "code",
   "execution_count": 174,
   "metadata": {},
   "outputs": [
    {
     "data": {
      "text/plain": [
       "[('http://idea.rpi.edu/heals/kb/usda#09229',\n",
       "  {'http://idea.rpi.edu/heals/kb/usda#09008',\n",
       "   'http://idea.rpi.edu/heals/kb/usda#09016',\n",
       "   'http://idea.rpi.edu/heals/kb/usda#09020',\n",
       "   'http://idea.rpi.edu/heals/kb/usda#09079',\n",
       "   'http://idea.rpi.edu/heals/kb/usda#09163',\n",
       "   'http://idea.rpi.edu/heals/kb/usda#09238',\n",
       "   'http://idea.rpi.edu/heals/kb/usda#09240',\n",
       "   'http://idea.rpi.edu/heals/kb/usda#09241',\n",
       "   'http://idea.rpi.edu/heals/kb/usda#09251',\n",
       "   'http://idea.rpi.edu/heals/kb/usda#09254',\n",
       "   'http://idea.rpi.edu/heals/kb/usda#09256',\n",
       "   'http://idea.rpi.edu/heals/kb/usda#09257',\n",
       "   'http://idea.rpi.edu/heals/kb/usda#09262',\n",
       "   'http://idea.rpi.edu/heals/kb/usda#09351',\n",
       "   'http://idea.rpi.edu/heals/kb/usda#09370',\n",
       "   'http://idea.rpi.edu/heals/kb/usda#09374',\n",
       "   'http://idea.rpi.edu/heals/kb/usda#09379',\n",
       "   'http://idea.rpi.edu/heals/kb/usda#09442',\n",
       "   'http://idea.rpi.edu/heals/kb/usda#09448'})]"
      ]
     },
     "execution_count": 174,
     "metadata": {},
     "output_type": "execute_result"
    }
   ],
   "source": [
    "list(scraped_subs_dict.items())[:1]"
   ]
  },
  {
   "cell_type": "code",
   "execution_count": 175,
   "metadata": {},
   "outputs": [
    {
     "name": "stdout",
     "output_type": "stream",
     "text": [
      "number of ings:  168\n",
      "mean reciprocal rank:  0.6366380024387187\n",
      "recallrate at 5:  0.7440476190476191\n",
      "recallrate at 10:  0.7857142857142857\n",
      "mean average precision:  0.48635624721189546\n",
      "formatted\n",
      "0.486  &  0.637  &  0.744  &  0.786\n"
     ]
    },
    {
     "data": {
      "text/plain": [
       "0.486"
      ]
     },
     "execution_count": 175,
     "metadata": {},
     "output_type": "execute_result"
    }
   ],
   "source": [
    "mrr_map_new(scraped_subs_dict,1)"
   ]
  },
  {
   "cell_type": "code",
   "execution_count": 49,
   "metadata": {},
   "outputs": [
    {
     "name": "stdout",
     "output_type": "stream",
     "text": [
      "number of ings:  105\n",
      "mean reciprocal rank:  0.39658383011324183\n",
      "recallrate at 5:  0.6190476190476191\n",
      "recallrate at 10:  0.7238095238095238\n",
      "mean average precision:  0.43368992885628466\n",
      "formatted\n",
      "0.434  &  0.397  &  0.619  &  0.724\n"
     ]
    },
    {
     "data": {
      "text/plain": [
       "0.434"
      ]
     },
     "execution_count": 49,
     "metadata": {},
     "output_type": "execute_result"
    }
   ],
   "source": [
    "mrr_map_new(scraped_subs_dict,2)"
   ]
  },
  {
   "cell_type": "code",
   "execution_count": null,
   "metadata": {},
   "outputs": [],
   "source": []
  }
 ],
 "metadata": {
  "kernelspec": {
   "display_name": "Python 3",
   "language": "python",
   "name": "python3"
  },
  "language_info": {
   "codemirror_mode": {
    "name": "ipython",
    "version": 3
   },
   "file_extension": ".py",
   "mimetype": "text/x-python",
   "name": "python",
   "nbconvert_exporter": "python",
   "pygments_lexer": "ipython3",
   "version": "3.8.3"
  }
 },
 "nbformat": 4,
 "nbformat_minor": 4
}
