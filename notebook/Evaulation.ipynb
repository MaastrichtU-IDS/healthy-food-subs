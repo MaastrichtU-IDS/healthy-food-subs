{
 "cells": [
  {
   "cell_type": "code",
   "execution_count": 13,
   "metadata": {},
   "outputs": [],
   "source": [
    "import numpy as np\n",
    "import random"
   ]
  },
  {
   "cell_type": "code",
   "execution_count": 3,
   "metadata": {},
   "outputs": [],
   "source": [
    "import pandas as pd"
   ]
  },
  {
   "cell_type": "code",
   "execution_count": 64,
   "metadata": {},
   "outputs": [],
   "source": [
    "from gensim.models import KeyedVectors\n",
    "from gensim.test.utils import datapath"
   ]
  },
  {
   "cell_type": "code",
   "execution_count": 65,
   "metadata": {},
   "outputs": [],
   "source": [
    "word_vectors = KeyedVectors.load_word2vec_format('../data/embedding/rdf2vec_vectors.txt', binary=False)\n",
    "\n",
    "# C text format"
   ]
  },
  {
   "cell_type": "code",
   "execution_count": 66,
   "metadata": {},
   "outputs": [
    {
     "data": {
      "text/plain": [
       "[('https://foodb.ca/foods/foodName/Kiwi', 0.8686439990997314),\n",
       " ('https://foodb.ca/foods/790', 0.8090094327926636),\n",
       " ('https://foodb.ca/foods/229', 0.7959798574447632),\n",
       " ('https://foodb.ca/foods/81', 0.7850533723831177),\n",
       " ('https://foodb.ca/foods/256', 0.7843894362449646)]"
      ]
     },
     "execution_count": 66,
     "metadata": {},
     "output_type": "execute_result"
    }
   ],
   "source": [
    "word_vectors.most_similar('https://foodb.ca/foods/4', topn=5)"
   ]
  },
  {
   "cell_type": "code",
   "execution_count": 72,
   "metadata": {},
   "outputs": [
    {
     "data": {
      "text/html": [
       "<div>\n",
       "<style scoped>\n",
       "    .dataframe tbody tr th:only-of-type {\n",
       "        vertical-align: middle;\n",
       "    }\n",
       "\n",
       "    .dataframe tbody tr th {\n",
       "        vertical-align: top;\n",
       "    }\n",
       "\n",
       "    .dataframe thead th {\n",
       "        text-align: right;\n",
       "    }\n",
       "</style>\n",
       "<table border=\"1\" class=\"dataframe\">\n",
       "  <thead>\n",
       "    <tr style=\"text-align: right;\">\n",
       "      <th></th>\n",
       "      <th>Unnamed: 0</th>\n",
       "      <th>food_id</th>\n",
       "      <th>food_name</th>\n",
       "      <th>food_group</th>\n",
       "      <th>food_subgroup</th>\n",
       "      <th>source_name</th>\n",
       "      <th>nutri_score</th>\n",
       "      <th>nutri_score_category</th>\n",
       "      <th>hasQuality</th>\n",
       "    </tr>\n",
       "  </thead>\n",
       "  <tbody>\n",
       "    <tr>\n",
       "      <th>0</th>\n",
       "      <td>0</td>\n",
       "      <td>4</td>\n",
       "      <td>Kiwi</td>\n",
       "      <td>Fruits</td>\n",
       "      <td>Tropical fruits</td>\n",
       "      <td>Fat</td>\n",
       "      <td>-1</td>\n",
       "      <td>A</td>\n",
       "      <td>['high_vitaminK1', 'high_vitaminB5']</td>\n",
       "    </tr>\n",
       "    <tr>\n",
       "      <th>1</th>\n",
       "      <td>1</td>\n",
       "      <td>6</td>\n",
       "      <td>Garden onion</td>\n",
       "      <td>Vegetables</td>\n",
       "      <td>Onion-family vegetables</td>\n",
       "      <td>Fat</td>\n",
       "      <td>-4</td>\n",
       "      <td>A</td>\n",
       "      <td>['high_potassium', 'high_iron', 'high_phosphor...</td>\n",
       "    </tr>\n",
       "    <tr>\n",
       "      <th>2</th>\n",
       "      <td>2</td>\n",
       "      <td>9</td>\n",
       "      <td>Chives</td>\n",
       "      <td>Herbs and Spices</td>\n",
       "      <td>Herbs</td>\n",
       "      <td>Fat</td>\n",
       "      <td>-3</td>\n",
       "      <td>A</td>\n",
       "      <td>['high_vitaminK1', 'high_vitaminB5', 'high_vit...</td>\n",
       "    </tr>\n",
       "    <tr>\n",
       "      <th>3</th>\n",
       "      <td>3</td>\n",
       "      <td>11</td>\n",
       "      <td>Cashew nut</td>\n",
       "      <td>Nuts</td>\n",
       "      <td>Nuts</td>\n",
       "      <td>Fat</td>\n",
       "      <td>14</td>\n",
       "      <td>D</td>\n",
       "      <td>['high_iron', 'high_phosphorus', 'high_vitamin...</td>\n",
       "    </tr>\n",
       "    <tr>\n",
       "      <th>4</th>\n",
       "      <td>4</td>\n",
       "      <td>12</td>\n",
       "      <td>Pineapple</td>\n",
       "      <td>Fruits</td>\n",
       "      <td>Tropical fruits</td>\n",
       "      <td>Fat</td>\n",
       "      <td>2</td>\n",
       "      <td>B</td>\n",
       "      <td>['high_vitaminB5', 'high_vitaminB8']</td>\n",
       "    </tr>\n",
       "  </tbody>\n",
       "</table>\n",
       "</div>"
      ],
      "text/plain": [
       "   Unnamed: 0  food_id     food_name        food_group  \\\n",
       "0           0        4          Kiwi            Fruits   \n",
       "1           1        6  Garden onion        Vegetables   \n",
       "2           2        9        Chives  Herbs and Spices   \n",
       "3           3       11    Cashew nut              Nuts   \n",
       "4           4       12     Pineapple            Fruits   \n",
       "\n",
       "             food_subgroup source_name  nutri_score nutri_score_category  \\\n",
       "0          Tropical fruits         Fat           -1                    A   \n",
       "1  Onion-family vegetables         Fat           -4                    A   \n",
       "2                    Herbs         Fat           -3                    A   \n",
       "3                     Nuts         Fat           14                    D   \n",
       "4          Tropical fruits         Fat            2                    B   \n",
       "\n",
       "                                          hasQuality  \n",
       "0               ['high_vitaminK1', 'high_vitaminB5']  \n",
       "1  ['high_potassium', 'high_iron', 'high_phosphor...  \n",
       "2  ['high_vitaminK1', 'high_vitaminB5', 'high_vit...  \n",
       "3  ['high_iron', 'high_phosphorus', 'high_vitamin...  \n",
       "4               ['high_vitaminB5', 'high_vitaminB8']  "
      ]
     },
     "execution_count": 72,
     "metadata": {},
     "output_type": "execute_result"
    }
   ],
   "source": [
    "df= pd.read_csv('../data/nutri_scores.csv')\n",
    "df.head()"
   ]
  },
  {
   "cell_type": "code",
   "execution_count": 74,
   "metadata": {},
   "outputs": [],
   "source": [
    "df= df[['food_id', 'nutri_score']]"
   ]
  },
  {
   "cell_type": "code",
   "execution_count": 83,
   "metadata": {},
   "outputs": [],
   "source": [
    "df['food_id']= df['food_id'].astype(str)"
   ]
  },
  {
   "cell_type": "code",
   "execution_count": 85,
   "metadata": {},
   "outputs": [],
   "source": [
    "df['food_id']= 'https://foodb.ca/foods/'+df['food_id']"
   ]
  },
  {
   "cell_type": "code",
   "execution_count": 86,
   "metadata": {},
   "outputs": [],
   "source": [
    "nutriscore ={}\n",
    "for i, row in df.iterrows():\n",
    "    nutriscore[row['food_id']] = row['nutri_score']"
   ]
  },
  {
   "cell_type": "code",
   "execution_count": 88,
   "metadata": {},
   "outputs": [
    {
     "data": {
      "text/plain": [
       "[('https://foodb.ca/foods/4', -1),\n",
       " ('https://foodb.ca/foods/6', -4),\n",
       " ('https://foodb.ca/foods/9', -3),\n",
       " ('https://foodb.ca/foods/11', 14),\n",
       " ('https://foodb.ca/foods/12', 2),\n",
       " ('https://foodb.ca/foods/13', 7),\n",
       " ('https://foodb.ca/foods/14', 3),\n",
       " ('https://foodb.ca/foods/15', -1),\n",
       " ('https://foodb.ca/foods/16', 7),\n",
       " ('https://foodb.ca/foods/17', 0)]"
      ]
     },
     "execution_count": 88,
     "metadata": {},
     "output_type": "execute_result"
    }
   ],
   "source": [
    "list(nutriscore.items())[:10]"
   ]
  },
  {
   "cell_type": "code",
   "execution_count": 69,
   "metadata": {},
   "outputs": [],
   "source": [
    "def get_simscostringrank_onlyss_multisamerank(fromt, asdf):\n",
    "    # return rank based on KG embedding +revised nutriscore\n",
    "    mostSimilar =word_vectors.most_similar(fromt, topn=100)\n",
    "    for i,(e, sim) in enumerate(mostSimilar):\n",
    "        if e == asdf:\n",
    "            return i+1    \n",
    "    return 100"
   ]
  },
  {
   "cell_type": "code",
   "execution_count": 96,
   "metadata": {},
   "outputs": [],
   "source": [
    "def get_simscore_ingrank_kg_nutriscore_multisamerank(fromt, asdf):\n",
    "    # return rank based on KG embedding +revised nutriscore\n",
    "    mostSimilar =word_vectors.most_similar(fromt, topn=20)\n",
    "    nutriscore_ranking= [ (e,nutriscore[e]) for (e, sim) in mostSimilar if e in nutriscore]\n",
    "    nutriscore_ranking= sorted(nutriscore_ranking, key= lambda x:x[1])\n",
    "    #print (nutriscore_ranking)\n",
    "    for i,(e, sim) in enumerate(nutriscore_ranking):\n",
    "        if e == asdf:\n",
    "            return i+1    \n",
    "    return 20"
   ]
  },
  {
   "cell_type": "code",
   "execution_count": 90,
   "metadata": {},
   "outputs": [],
   "source": [
    "def mrr_map_new(scraped_subs_dict):\n",
    "    rank_scores = []\n",
    "    ave_p = []\n",
    "    in_top_5 = 0\n",
    "    in_top_10 = 0\n",
    "    print('number of ings: ',len(scraped_subs_dict.keys()))\n",
    "\n",
    "    for fromt in scraped_subs_dict.keys():\n",
    "        relevant_ranks = []\n",
    "        min_rank = 9999999999999999\n",
    "        for asdf in scraped_subs_dict[fromt]:\n",
    "            #rank = get_simscore_ingrank_onlyss_multisamerank(fromt, asdf)\n",
    "            rank = get_simscore_ingrank_kg_nutriscore_multisamerank(fromt, asdf)   \n",
    "            relevant_ranks.append(rank)\n",
    "            if fromt == 'potato':\n",
    "                print(asdf, rank)\n",
    "            if rank < min_rank:\n",
    "                min_rank = rank\n",
    "        rank = min_rank\n",
    "\n",
    "        rank_scores.append(1.0/rank)\n",
    "        if min_rank <= 5:\n",
    "            in_top_5 += 1\n",
    "        if min_rank <= 10:\n",
    "            in_top_10 += 1\n",
    "\n",
    "        precisions = []\n",
    "        for rank in relevant_ranks:\n",
    "            good_docs = len([r for r in relevant_ranks if r <= rank])\n",
    "            precisions.append(good_docs/rank)\n",
    "        if len(precisions) == 0:\n",
    "            precisions = [0]\n",
    "        ave_p.append(np.mean(precisions))\n",
    "\n",
    "    print('mean reciprocal rank: ', np.mean(rank_scores))\n",
    "    print('recallrate at 5: ', in_top_5/len(scraped_subs_dict.keys()))\n",
    "    print('recallrate at 10: ', in_top_10/len(scraped_subs_dict.keys()))\n",
    "    print('mean average precision: ', np.mean(ave_p))\n",
    "    print('formatted')\n",
    "    print(round(np.mean(ave_p), 3),' & ',round(np.mean(rank_scores), 3),' & ',round(in_top_5/len(scraped_subs_dict.keys()), 3),' & ',round(in_top_10/len(scraped_subs_dict.keys()), 3))\n",
    "    return round(np.mean(ave_p), 3)\n"
   ]
  },
  {
   "cell_type": "code",
   "execution_count": 5,
   "metadata": {},
   "outputs": [],
   "source": [
    "df = pd.read_json('../data/foodcom_review_data.json')"
   ]
  },
  {
   "cell_type": "code",
   "execution_count": 6,
   "metadata": {},
   "outputs": [
    {
     "data": {
      "text/html": [
       "<div>\n",
       "<style scoped>\n",
       "    .dataframe tbody tr th:only-of-type {\n",
       "        vertical-align: middle;\n",
       "    }\n",
       "\n",
       "    .dataframe tbody tr th {\n",
       "        vertical-align: top;\n",
       "    }\n",
       "\n",
       "    .dataframe thead th {\n",
       "        text-align: right;\n",
       "    }\n",
       "</style>\n",
       "<table border=\"1\" class=\"dataframe\">\n",
       "  <thead>\n",
       "    <tr style=\"text-align: right;\">\n",
       "      <th></th>\n",
       "      <th>0</th>\n",
       "      <th>1</th>\n",
       "    </tr>\n",
       "  </thead>\n",
       "  <tbody>\n",
       "    <tr>\n",
       "      <th>0</th>\n",
       "      <td>http://idea.rpi.edu/heals/kb/ingredientname/mo...</td>\n",
       "      <td>http://idea.rpi.edu/heals/kb/ingredientname/ag...</td>\n",
       "    </tr>\n",
       "    <tr>\n",
       "      <th>1</th>\n",
       "      <td>http://idea.rpi.edu/heals/kb/ingredientname/ta...</td>\n",
       "      <td>http://idea.rpi.edu/heals/kb/ingredientname/fe...</td>\n",
       "    </tr>\n",
       "    <tr>\n",
       "      <th>2</th>\n",
       "      <td>http://idea.rpi.edu/heals/kb/ingredientname/pl...</td>\n",
       "      <td>http://idea.rpi.edu/heals/kb/ingredientname/mi...</td>\n",
       "    </tr>\n",
       "    <tr>\n",
       "      <th>3</th>\n",
       "      <td>http://idea.rpi.edu/heals/kb/ingredientname/ma...</td>\n",
       "      <td>http://idea.rpi.edu/heals/kb/ingredientname/oil</td>\n",
       "    </tr>\n",
       "    <tr>\n",
       "      <th>4</th>\n",
       "      <td>http://idea.rpi.edu/heals/kb/ingredientname/ca...</td>\n",
       "      <td>http://idea.rpi.edu/heals/kb/ingredientname/sw...</td>\n",
       "    </tr>\n",
       "  </tbody>\n",
       "</table>\n",
       "</div>"
      ],
      "text/plain": [
       "                                                   0  \\\n",
       "0  http://idea.rpi.edu/heals/kb/ingredientname/mo...   \n",
       "1  http://idea.rpi.edu/heals/kb/ingredientname/ta...   \n",
       "2  http://idea.rpi.edu/heals/kb/ingredientname/pl...   \n",
       "3  http://idea.rpi.edu/heals/kb/ingredientname/ma...   \n",
       "4  http://idea.rpi.edu/heals/kb/ingredientname/ca...   \n",
       "\n",
       "                                                   1  \n",
       "0  http://idea.rpi.edu/heals/kb/ingredientname/ag...  \n",
       "1  http://idea.rpi.edu/heals/kb/ingredientname/fe...  \n",
       "2  http://idea.rpi.edu/heals/kb/ingredientname/mi...  \n",
       "3    http://idea.rpi.edu/heals/kb/ingredientname/oil  \n",
       "4  http://idea.rpi.edu/heals/kb/ingredientname/sw...  "
      ]
     },
     "execution_count": 6,
     "metadata": {},
     "output_type": "execute_result"
    }
   ],
   "source": [
    "df.head()"
   ]
  },
  {
   "cell_type": "code",
   "execution_count": 8,
   "metadata": {},
   "outputs": [],
   "source": [
    "scraped_subs_dict = dict()\n",
    "for i,row in df.iterrows():\n",
    "    if row[0] not in scraped_subs_dict:\n",
    "        scraped_subs_dict[row[0]] = set()\n",
    "    scraped_subs_dict[row[0]].add(row[1])"
   ]
  },
  {
   "cell_type": "code",
   "execution_count": 12,
   "metadata": {},
   "outputs": [
    {
     "data": {
      "text/plain": [
       "[('http://idea.rpi.edu/heals/kb/ingredientname/molasses',\n",
       "  {'http://idea.rpi.edu/heals/kb/ingredientname/agave%20nectar',\n",
       "   'http://idea.rpi.edu/heals/kb/ingredientname/banana',\n",
       "   'http://idea.rpi.edu/heals/kb/ingredientname/brown%20sugar',\n",
       "   'http://idea.rpi.edu/heals/kb/ingredientname/corn%20syrup',\n",
       "   'http://idea.rpi.edu/heals/kb/ingredientname/dark%20brown%20sugar',\n",
       "   'http://idea.rpi.edu/heals/kb/ingredientname/golden%20syrup',\n",
       "   'http://idea.rpi.edu/heals/kb/ingredientname/honey',\n",
       "   'http://idea.rpi.edu/heals/kb/ingredientname/karo%20syrup',\n",
       "   'http://idea.rpi.edu/heals/kb/ingredientname/maple%20syrup',\n",
       "   'http://idea.rpi.edu/heals/kb/ingredientname/pure%20maple%20syrup',\n",
       "   'http://idea.rpi.edu/heals/kb/ingredientname/sorghum',\n",
       "   'http://idea.rpi.edu/heals/kb/ingredientname/treacle',\n",
       "   'http://idea.rpi.edu/heals/kb/ingredientname/white%20sugar'}),\n",
       " ('http://idea.rpi.edu/heals/kb/ingredientname/tarragon',\n",
       "  {'http://idea.rpi.edu/heals/kb/ingredientname/basil',\n",
       "   'http://idea.rpi.edu/heals/kb/ingredientname/dill',\n",
       "   'http://idea.rpi.edu/heals/kb/ingredientname/dried%20basil',\n",
       "   'http://idea.rpi.edu/heals/kb/ingredientname/dried%20thyme',\n",
       "   'http://idea.rpi.edu/heals/kb/ingredientname/fennel%20seed',\n",
       "   'http://idea.rpi.edu/heals/kb/ingredientname/herbs',\n",
       "   'http://idea.rpi.edu/heals/kb/ingredientname/italian%20herb%20seasoning',\n",
       "   'http://idea.rpi.edu/heals/kb/ingredientname/marjoram',\n",
       "   'http://idea.rpi.edu/heals/kb/ingredientname/oregano',\n",
       "   'http://idea.rpi.edu/heals/kb/ingredientname/parsley',\n",
       "   'http://idea.rpi.edu/heals/kb/ingredientname/poppy%20seeds',\n",
       "   'http://idea.rpi.edu/heals/kb/ingredientname/rosemary',\n",
       "   'http://idea.rpi.edu/heals/kb/ingredientname/thyme'}),\n",
       " ('http://idea.rpi.edu/heals/kb/ingredientname/plain%20nonfat%20yogurt',\n",
       "  {'http://idea.rpi.edu/heals/kb/ingredientname/miracle%20whip'}),\n",
       " ('http://idea.rpi.edu/heals/kb/ingredientname/margarine',\n",
       "  {'http://idea.rpi.edu/heals/kb/ingredientname/apple',\n",
       "   'http://idea.rpi.edu/heals/kb/ingredientname/applesauce',\n",
       "   'http://idea.rpi.edu/heals/kb/ingredientname/butter',\n",
       "   'http://idea.rpi.edu/heals/kb/ingredientname/butter%20buds',\n",
       "   'http://idea.rpi.edu/heals/kb/ingredientname/canola%20oil',\n",
       "   'http://idea.rpi.edu/heals/kb/ingredientname/coconut%20oil',\n",
       "   'http://idea.rpi.edu/heals/kb/ingredientname/lard',\n",
       "   'http://idea.rpi.edu/heals/kb/ingredientname/light%20butter',\n",
       "   'http://idea.rpi.edu/heals/kb/ingredientname/oil',\n",
       "   'http://idea.rpi.edu/heals/kb/ingredientname/olive%20oil',\n",
       "   'http://idea.rpi.edu/heals/kb/ingredientname/real%20butter',\n",
       "   'http://idea.rpi.edu/heals/kb/ingredientname/shortening',\n",
       "   'http://idea.rpi.edu/heals/kb/ingredientname/stick',\n",
       "   'http://idea.rpi.edu/heals/kb/ingredientname/unsalted%20butter'}),\n",
       " ('http://idea.rpi.edu/heals/kb/ingredientname/carrot',\n",
       "  {'http://idea.rpi.edu/heals/kb/ingredientname/bacon',\n",
       "   'http://idea.rpi.edu/heals/kb/ingredientname/broccoli',\n",
       "   'http://idea.rpi.edu/heals/kb/ingredientname/mushrooms',\n",
       "   'http://idea.rpi.edu/heals/kb/ingredientname/parsnip',\n",
       "   'http://idea.rpi.edu/heals/kb/ingredientname/red%20capsicum',\n",
       "   'http://idea.rpi.edu/heals/kb/ingredientname/red%20pepper',\n",
       "   'http://idea.rpi.edu/heals/kb/ingredientname/sweet%20red%20pepper'})]"
      ]
     },
     "execution_count": 12,
     "metadata": {},
     "output_type": "execute_result"
    }
   ],
   "source": [
    "list(scraped_subs_dict.items())[:5]"
   ]
  },
  {
   "cell_type": "code",
   "execution_count": 17,
   "metadata": {},
   "outputs": [
    {
     "name": "stdout",
     "output_type": "stream",
     "text": [
      "number of ings:  1041\n",
      "mean reciprocal rank:  0.45740512022932767\n",
      "recallrate at 5:  0.6878001921229587\n",
      "recallrate at 10:  1.0\n",
      "mean average precision:  0.5744500596083637\n",
      "formatted\n",
      "0.574  &  0.457  &  0.688  &  1.0\n"
     ]
    },
    {
     "data": {
      "text/plain": [
       "0.574"
      ]
     },
     "execution_count": 17,
     "metadata": {},
     "output_type": "execute_result"
    }
   ],
   "source": [
    "mrr_map_new(scraped_subs_dict)"
   ]
  },
  {
   "cell_type": "code",
   "execution_count": 38,
   "metadata": {},
   "outputs": [],
   "source": [
    "linking_df = pd.read_csv('../data/limes_accepted_name.nt.txt', names=['entity1', 'predicate', 'entity2','x'], sep=' ')"
   ]
  },
  {
   "cell_type": "code",
   "execution_count": 57,
   "metadata": {},
   "outputs": [],
   "source": [
    "mapping={}\n",
    "for i, row in linking_df.iterrows():\n",
    "    entity1= row['entity1'].replace(\"<\",\"\")[:-1]\n",
    "    entity2= row['entity2'].replace(\"<\",\"\")[:-1]\n",
    "    #print (entity1, entity2)\n",
    "    mapping[entity1] = entity2"
   ]
  },
  {
   "cell_type": "code",
   "execution_count": 59,
   "metadata": {},
   "outputs": [],
   "source": [
    "scraped_subs_dict = dict()\n",
    "for i,row in df.iterrows():\n",
    "    if row[0] in mapping and row[1] in mapping: \n",
    "        food= mapping[row[0]]\n",
    "        subs = mapping[row[1]]\n",
    "        if food not in scraped_subs_dict:\n",
    "            scraped_subs_dict[food] = set()\n",
    "        scraped_subs_dict[food].add(subs)"
   ]
  },
  {
   "cell_type": "code",
   "execution_count": 70,
   "metadata": {},
   "outputs": [
    {
     "name": "stdout",
     "output_type": "stream",
     "text": [
      "number of ings:  130\n",
      "mean reciprocal rank:  0.13385401046071504\n",
      "recallrate at 5:  0.2153846153846154\n",
      "recallrate at 10:  0.3076923076923077\n",
      "mean average precision:  0.08348331292184108\n",
      "formatted\n",
      "0.083  &  0.134  &  0.215  &  0.308\n"
     ]
    },
    {
     "data": {
      "text/plain": [
       "0.083"
      ]
     },
     "execution_count": 70,
     "metadata": {},
     "output_type": "execute_result"
    }
   ],
   "source": [
    "mrr_map_new(scraped_subs_dict)"
   ]
  },
  {
   "cell_type": "code",
   "execution_count": 97,
   "metadata": {},
   "outputs": [
    {
     "name": "stdout",
     "output_type": "stream",
     "text": [
      "number of ings:  130\n",
      "mean reciprocal rank:  0.10177078577531067\n",
      "recallrate at 5:  0.13076923076923078\n",
      "recallrate at 10:  0.2076923076923077\n",
      "mean average precision:  0.15773695927078818\n",
      "formatted\n",
      "0.158  &  0.102  &  0.131  &  0.208\n"
     ]
    },
    {
     "data": {
      "text/plain": [
       "0.158"
      ]
     },
     "execution_count": 97,
     "metadata": {},
     "output_type": "execute_result"
    }
   ],
   "source": [
    "mrr_map_new(scraped_subs_dict)"
   ]
  },
  {
   "cell_type": "code",
   "execution_count": null,
   "metadata": {},
   "outputs": [],
   "source": []
  }
 ],
 "metadata": {
  "kernelspec": {
   "display_name": "Python 3",
   "language": "python",
   "name": "python3"
  },
  "language_info": {
   "codemirror_mode": {
    "name": "ipython",
    "version": 3
   },
   "file_extension": ".py",
   "mimetype": "text/x-python",
   "name": "python",
   "nbconvert_exporter": "python",
   "pygments_lexer": "ipython3",
   "version": "3.7.6"
  }
 },
 "nbformat": 4,
 "nbformat_minor": 4
}
