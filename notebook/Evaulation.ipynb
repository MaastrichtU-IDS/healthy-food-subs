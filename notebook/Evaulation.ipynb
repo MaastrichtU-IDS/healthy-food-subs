{
 "cells": [
  {
   "cell_type": "code",
   "execution_count": 13,
   "metadata": {},
   "outputs": [],
   "source": [
    "import numpy as np\n",
    "import random"
   ]
  },
  {
   "cell_type": "code",
   "execution_count": 3,
   "metadata": {},
   "outputs": [],
   "source": [
    "import pandas as pd"
   ]
  },
  {
   "cell_type": "code",
   "execution_count": 16,
   "metadata": {},
   "outputs": [],
   "source": [
    "def get_simscore_ingrank_onlyss_multisamerank(fromt, asdf):\n",
    "    # return rank based on KG embedding +revised nutriscore\n",
    "    return random.randint(1,10)"
   ]
  },
  {
   "cell_type": "code",
   "execution_count": 15,
   "metadata": {},
   "outputs": [],
   "source": [
    "def mrr_map_new(scraped_subs_dict):\n",
    "    rank_scores = []\n",
    "    ave_p = []\n",
    "    in_top_5 = 0\n",
    "    in_top_10 = 0\n",
    "    print('number of ings: ',len(scraped_subs_dict.keys()))\n",
    "\n",
    "    for fromt in scraped_subs_dict.keys():\n",
    "        relevant_ranks = []\n",
    "        min_rank = 9999999999999999\n",
    "        for asdf in scraped_subs_dict[fromt]:\n",
    "            rank = get_simscore_ingrank_onlyss_multisamerank(fromt, asdf)\n",
    "            relevant_ranks.append(rank)\n",
    "            if fromt == 'potato':\n",
    "                print(asdf, rank)\n",
    "            if rank < min_rank:\n",
    "                min_rank = rank\n",
    "        rank = min_rank\n",
    "\n",
    "        rank_scores.append(1.0/rank)\n",
    "        if min_rank <= 5:\n",
    "            in_top_5 += 1\n",
    "        if min_rank <= 10:\n",
    "            in_top_10 += 1\n",
    "\n",
    "        precisions = []\n",
    "        for rank in relevant_ranks:\n",
    "            good_docs = len([r for r in relevant_ranks if r <= rank])\n",
    "            precisions.append(good_docs/rank)\n",
    "        if len(precisions) == 0:\n",
    "            precisions = [0]\n",
    "        ave_p.append(np.mean(precisions))\n",
    "\n",
    "    print('mean reciprocal rank: ', np.mean(rank_scores))\n",
    "    print('recallrate at 5: ', in_top_5/len(scraped_subs_dict.keys()))\n",
    "    print('recallrate at 10: ', in_top_10/len(scraped_subs_dict.keys()))\n",
    "    print('mean average precision: ', np.mean(ave_p))\n",
    "    print('formatted')\n",
    "    print(round(np.mean(ave_p), 3),' & ',round(np.mean(rank_scores), 3),' & ',round(in_top_5/len(scraped_subs_dict.keys()), 3),' & ',round(in_top_10/len(scraped_subs_dict.keys()), 3))\n",
    "    return round(np.mean(ave_p), 3)\n"
   ]
  },
  {
   "cell_type": "code",
   "execution_count": 5,
   "metadata": {},
   "outputs": [],
   "source": [
    "df = pd.read_json('../data/foodcom_review_data.json')"
   ]
  },
  {
   "cell_type": "code",
   "execution_count": 6,
   "metadata": {},
   "outputs": [
    {
     "data": {
      "text/html": [
       "<div>\n",
       "<style scoped>\n",
       "    .dataframe tbody tr th:only-of-type {\n",
       "        vertical-align: middle;\n",
       "    }\n",
       "\n",
       "    .dataframe tbody tr th {\n",
       "        vertical-align: top;\n",
       "    }\n",
       "\n",
       "    .dataframe thead th {\n",
       "        text-align: right;\n",
       "    }\n",
       "</style>\n",
       "<table border=\"1\" class=\"dataframe\">\n",
       "  <thead>\n",
       "    <tr style=\"text-align: right;\">\n",
       "      <th></th>\n",
       "      <th>0</th>\n",
       "      <th>1</th>\n",
       "    </tr>\n",
       "  </thead>\n",
       "  <tbody>\n",
       "    <tr>\n",
       "      <th>0</th>\n",
       "      <td>http://idea.rpi.edu/heals/kb/ingredientname/mo...</td>\n",
       "      <td>http://idea.rpi.edu/heals/kb/ingredientname/ag...</td>\n",
       "    </tr>\n",
       "    <tr>\n",
       "      <th>1</th>\n",
       "      <td>http://idea.rpi.edu/heals/kb/ingredientname/ta...</td>\n",
       "      <td>http://idea.rpi.edu/heals/kb/ingredientname/fe...</td>\n",
       "    </tr>\n",
       "    <tr>\n",
       "      <th>2</th>\n",
       "      <td>http://idea.rpi.edu/heals/kb/ingredientname/pl...</td>\n",
       "      <td>http://idea.rpi.edu/heals/kb/ingredientname/mi...</td>\n",
       "    </tr>\n",
       "    <tr>\n",
       "      <th>3</th>\n",
       "      <td>http://idea.rpi.edu/heals/kb/ingredientname/ma...</td>\n",
       "      <td>http://idea.rpi.edu/heals/kb/ingredientname/oil</td>\n",
       "    </tr>\n",
       "    <tr>\n",
       "      <th>4</th>\n",
       "      <td>http://idea.rpi.edu/heals/kb/ingredientname/ca...</td>\n",
       "      <td>http://idea.rpi.edu/heals/kb/ingredientname/sw...</td>\n",
       "    </tr>\n",
       "  </tbody>\n",
       "</table>\n",
       "</div>"
      ],
      "text/plain": [
       "                                                   0  \\\n",
       "0  http://idea.rpi.edu/heals/kb/ingredientname/mo...   \n",
       "1  http://idea.rpi.edu/heals/kb/ingredientname/ta...   \n",
       "2  http://idea.rpi.edu/heals/kb/ingredientname/pl...   \n",
       "3  http://idea.rpi.edu/heals/kb/ingredientname/ma...   \n",
       "4  http://idea.rpi.edu/heals/kb/ingredientname/ca...   \n",
       "\n",
       "                                                   1  \n",
       "0  http://idea.rpi.edu/heals/kb/ingredientname/ag...  \n",
       "1  http://idea.rpi.edu/heals/kb/ingredientname/fe...  \n",
       "2  http://idea.rpi.edu/heals/kb/ingredientname/mi...  \n",
       "3    http://idea.rpi.edu/heals/kb/ingredientname/oil  \n",
       "4  http://idea.rpi.edu/heals/kb/ingredientname/sw...  "
      ]
     },
     "execution_count": 6,
     "metadata": {},
     "output_type": "execute_result"
    }
   ],
   "source": [
    "df.head()"
   ]
  },
  {
   "cell_type": "code",
   "execution_count": 8,
   "metadata": {},
   "outputs": [],
   "source": [
    "scraped_subs_dict = dict()\n",
    "for i,row in df.iterrows():\n",
    "    if row[0] not in scraped_subs_dict:\n",
    "        scraped_subs_dict[row[0]] = set()\n",
    "    scraped_subs_dict[row[0]].add(row[1])"
   ]
  },
  {
   "cell_type": "code",
   "execution_count": 12,
   "metadata": {},
   "outputs": [
    {
     "data": {
      "text/plain": [
       "[('http://idea.rpi.edu/heals/kb/ingredientname/molasses',\n",
       "  {'http://idea.rpi.edu/heals/kb/ingredientname/agave%20nectar',\n",
       "   'http://idea.rpi.edu/heals/kb/ingredientname/banana',\n",
       "   'http://idea.rpi.edu/heals/kb/ingredientname/brown%20sugar',\n",
       "   'http://idea.rpi.edu/heals/kb/ingredientname/corn%20syrup',\n",
       "   'http://idea.rpi.edu/heals/kb/ingredientname/dark%20brown%20sugar',\n",
       "   'http://idea.rpi.edu/heals/kb/ingredientname/golden%20syrup',\n",
       "   'http://idea.rpi.edu/heals/kb/ingredientname/honey',\n",
       "   'http://idea.rpi.edu/heals/kb/ingredientname/karo%20syrup',\n",
       "   'http://idea.rpi.edu/heals/kb/ingredientname/maple%20syrup',\n",
       "   'http://idea.rpi.edu/heals/kb/ingredientname/pure%20maple%20syrup',\n",
       "   'http://idea.rpi.edu/heals/kb/ingredientname/sorghum',\n",
       "   'http://idea.rpi.edu/heals/kb/ingredientname/treacle',\n",
       "   'http://idea.rpi.edu/heals/kb/ingredientname/white%20sugar'}),\n",
       " ('http://idea.rpi.edu/heals/kb/ingredientname/tarragon',\n",
       "  {'http://idea.rpi.edu/heals/kb/ingredientname/basil',\n",
       "   'http://idea.rpi.edu/heals/kb/ingredientname/dill',\n",
       "   'http://idea.rpi.edu/heals/kb/ingredientname/dried%20basil',\n",
       "   'http://idea.rpi.edu/heals/kb/ingredientname/dried%20thyme',\n",
       "   'http://idea.rpi.edu/heals/kb/ingredientname/fennel%20seed',\n",
       "   'http://idea.rpi.edu/heals/kb/ingredientname/herbs',\n",
       "   'http://idea.rpi.edu/heals/kb/ingredientname/italian%20herb%20seasoning',\n",
       "   'http://idea.rpi.edu/heals/kb/ingredientname/marjoram',\n",
       "   'http://idea.rpi.edu/heals/kb/ingredientname/oregano',\n",
       "   'http://idea.rpi.edu/heals/kb/ingredientname/parsley',\n",
       "   'http://idea.rpi.edu/heals/kb/ingredientname/poppy%20seeds',\n",
       "   'http://idea.rpi.edu/heals/kb/ingredientname/rosemary',\n",
       "   'http://idea.rpi.edu/heals/kb/ingredientname/thyme'}),\n",
       " ('http://idea.rpi.edu/heals/kb/ingredientname/plain%20nonfat%20yogurt',\n",
       "  {'http://idea.rpi.edu/heals/kb/ingredientname/miracle%20whip'}),\n",
       " ('http://idea.rpi.edu/heals/kb/ingredientname/margarine',\n",
       "  {'http://idea.rpi.edu/heals/kb/ingredientname/apple',\n",
       "   'http://idea.rpi.edu/heals/kb/ingredientname/applesauce',\n",
       "   'http://idea.rpi.edu/heals/kb/ingredientname/butter',\n",
       "   'http://idea.rpi.edu/heals/kb/ingredientname/butter%20buds',\n",
       "   'http://idea.rpi.edu/heals/kb/ingredientname/canola%20oil',\n",
       "   'http://idea.rpi.edu/heals/kb/ingredientname/coconut%20oil',\n",
       "   'http://idea.rpi.edu/heals/kb/ingredientname/lard',\n",
       "   'http://idea.rpi.edu/heals/kb/ingredientname/light%20butter',\n",
       "   'http://idea.rpi.edu/heals/kb/ingredientname/oil',\n",
       "   'http://idea.rpi.edu/heals/kb/ingredientname/olive%20oil',\n",
       "   'http://idea.rpi.edu/heals/kb/ingredientname/real%20butter',\n",
       "   'http://idea.rpi.edu/heals/kb/ingredientname/shortening',\n",
       "   'http://idea.rpi.edu/heals/kb/ingredientname/stick',\n",
       "   'http://idea.rpi.edu/heals/kb/ingredientname/unsalted%20butter'}),\n",
       " ('http://idea.rpi.edu/heals/kb/ingredientname/carrot',\n",
       "  {'http://idea.rpi.edu/heals/kb/ingredientname/bacon',\n",
       "   'http://idea.rpi.edu/heals/kb/ingredientname/broccoli',\n",
       "   'http://idea.rpi.edu/heals/kb/ingredientname/mushrooms',\n",
       "   'http://idea.rpi.edu/heals/kb/ingredientname/parsnip',\n",
       "   'http://idea.rpi.edu/heals/kb/ingredientname/red%20capsicum',\n",
       "   'http://idea.rpi.edu/heals/kb/ingredientname/red%20pepper',\n",
       "   'http://idea.rpi.edu/heals/kb/ingredientname/sweet%20red%20pepper'})]"
      ]
     },
     "execution_count": 12,
     "metadata": {},
     "output_type": "execute_result"
    }
   ],
   "source": [
    "list(scraped_subs_dict.items())[:5]"
   ]
  },
  {
   "cell_type": "code",
   "execution_count": 17,
   "metadata": {},
   "outputs": [
    {
     "name": "stdout",
     "output_type": "stream",
     "text": [
      "number of ings:  1041\n",
      "mean reciprocal rank:  0.45740512022932767\n",
      "recallrate at 5:  0.6878001921229587\n",
      "recallrate at 10:  1.0\n",
      "mean average precision:  0.5744500596083637\n",
      "formatted\n",
      "0.574  &  0.457  &  0.688  &  1.0\n"
     ]
    },
    {
     "data": {
      "text/plain": [
       "0.574"
      ]
     },
     "execution_count": 17,
     "metadata": {},
     "output_type": "execute_result"
    }
   ],
   "source": [
    "mrr_map_new(scraped_subs_dict)"
   ]
  },
  {
   "cell_type": "code",
   "execution_count": null,
   "metadata": {},
   "outputs": [],
   "source": []
  }
 ],
 "metadata": {
  "kernelspec": {
   "display_name": "Python 3",
   "language": "python",
   "name": "python3"
  },
  "language_info": {
   "codemirror_mode": {
    "name": "ipython",
    "version": 3
   },
   "file_extension": ".py",
   "mimetype": "text/x-python",
   "name": "python",
   "nbconvert_exporter": "python",
   "pygments_lexer": "ipython3",
   "version": "3.7.6"
  }
 },
 "nbformat": 4,
 "nbformat_minor": 4
}
