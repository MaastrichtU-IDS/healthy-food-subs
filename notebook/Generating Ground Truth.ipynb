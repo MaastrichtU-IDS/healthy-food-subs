{
 "cells": [
  {
   "cell_type": "code",
   "execution_count": 1,
   "metadata": {},
   "outputs": [],
   "source": [
    "import pandas as pd\n",
    "import ast"
   ]
  },
  {
   "cell_type": "code",
   "execution_count": 2,
   "metadata": {},
   "outputs": [],
   "source": [
    "from gensim.models import KeyedVectors"
   ]
  },
  {
   "cell_type": "code",
   "execution_count": 3,
   "metadata": {},
   "outputs": [],
   "source": [
    "word_vectors = KeyedVectors.load_word2vec_format('../data/embedding/rdf2vec_vectors_21_july_tags.txt', binary=False)\n",
    "\n",
    "# C text format"
   ]
  },
  {
   "cell_type": "code",
   "execution_count": 4,
   "metadata": {},
   "outputs": [
    {
     "data": {
      "text/plain": [
       "[('http://idea.rpi.edu/heals/kb/usda#42151', 0.7698718905448914),\n",
       " ('http://idea.rpi.edu/heals/kb/usda#04585', 0.7616324424743652),\n",
       " ('http://idea.rpi.edu/heals/kb/usda#42230', 0.7595455646514893),\n",
       " ('http://idea.rpi.edu/heals/kb/usda#04624', 0.7517369389533997),\n",
       " ('http://idea.rpi.edu/heals/kb/usda#01088', 0.7443124055862427)]"
      ]
     },
     "execution_count": 4,
     "metadata": {},
     "output_type": "execute_result"
    }
   ],
   "source": [
    "word_vectors.most_similar('http://idea.rpi.edu/heals/kb/usda#01003', topn=5)"
   ]
  },
  {
   "cell_type": "code",
   "execution_count": 5,
   "metadata": {},
   "outputs": [],
   "source": [
    "df = pd.read_json('../data/foodcom_review_data.json')"
   ]
  },
  {
   "cell_type": "code",
   "execution_count": 6,
   "metadata": {},
   "outputs": [
    {
     "data": {
      "text/html": [
       "<div>\n",
       "<style scoped>\n",
       "    .dataframe tbody tr th:only-of-type {\n",
       "        vertical-align: middle;\n",
       "    }\n",
       "\n",
       "    .dataframe tbody tr th {\n",
       "        vertical-align: top;\n",
       "    }\n",
       "\n",
       "    .dataframe thead th {\n",
       "        text-align: right;\n",
       "    }\n",
       "</style>\n",
       "<table border=\"1\" class=\"dataframe\">\n",
       "  <thead>\n",
       "    <tr style=\"text-align: right;\">\n",
       "      <th></th>\n",
       "      <th>0</th>\n",
       "      <th>1</th>\n",
       "    </tr>\n",
       "  </thead>\n",
       "  <tbody>\n",
       "    <tr>\n",
       "      <th>0</th>\n",
       "      <td>http://idea.rpi.edu/heals/kb/ingredientname/mo...</td>\n",
       "      <td>http://idea.rpi.edu/heals/kb/ingredientname/ag...</td>\n",
       "    </tr>\n",
       "    <tr>\n",
       "      <th>1</th>\n",
       "      <td>http://idea.rpi.edu/heals/kb/ingredientname/ta...</td>\n",
       "      <td>http://idea.rpi.edu/heals/kb/ingredientname/fe...</td>\n",
       "    </tr>\n",
       "    <tr>\n",
       "      <th>2</th>\n",
       "      <td>http://idea.rpi.edu/heals/kb/ingredientname/pl...</td>\n",
       "      <td>http://idea.rpi.edu/heals/kb/ingredientname/mi...</td>\n",
       "    </tr>\n",
       "    <tr>\n",
       "      <th>3</th>\n",
       "      <td>http://idea.rpi.edu/heals/kb/ingredientname/ma...</td>\n",
       "      <td>http://idea.rpi.edu/heals/kb/ingredientname/oil</td>\n",
       "    </tr>\n",
       "    <tr>\n",
       "      <th>4</th>\n",
       "      <td>http://idea.rpi.edu/heals/kb/ingredientname/ca...</td>\n",
       "      <td>http://idea.rpi.edu/heals/kb/ingredientname/sw...</td>\n",
       "    </tr>\n",
       "  </tbody>\n",
       "</table>\n",
       "</div>"
      ],
      "text/plain": [
       "                                                   0  \\\n",
       "0  http://idea.rpi.edu/heals/kb/ingredientname/mo...   \n",
       "1  http://idea.rpi.edu/heals/kb/ingredientname/ta...   \n",
       "2  http://idea.rpi.edu/heals/kb/ingredientname/pl...   \n",
       "3  http://idea.rpi.edu/heals/kb/ingredientname/ma...   \n",
       "4  http://idea.rpi.edu/heals/kb/ingredientname/ca...   \n",
       "\n",
       "                                                   1  \n",
       "0  http://idea.rpi.edu/heals/kb/ingredientname/ag...  \n",
       "1  http://idea.rpi.edu/heals/kb/ingredientname/fe...  \n",
       "2  http://idea.rpi.edu/heals/kb/ingredientname/mi...  \n",
       "3    http://idea.rpi.edu/heals/kb/ingredientname/oil  \n",
       "4  http://idea.rpi.edu/heals/kb/ingredientname/sw...  "
      ]
     },
     "execution_count": 6,
     "metadata": {},
     "output_type": "execute_result"
    }
   ],
   "source": [
    "df.head()"
   ]
  },
  {
   "cell_type": "code",
   "execution_count": 7,
   "metadata": {},
   "outputs": [
    {
     "data": {
      "text/plain": [
       "3846"
      ]
     },
     "execution_count": 7,
     "metadata": {},
     "output_type": "execute_result"
    }
   ],
   "source": [
    "len(df)"
   ]
  },
  {
   "cell_type": "code",
   "execution_count": 8,
   "metadata": {},
   "outputs": [
    {
     "data": {
      "text/html": [
       "<div>\n",
       "<style scoped>\n",
       "    .dataframe tbody tr th:only-of-type {\n",
       "        vertical-align: middle;\n",
       "    }\n",
       "\n",
       "    .dataframe tbody tr th {\n",
       "        vertical-align: top;\n",
       "    }\n",
       "\n",
       "    .dataframe thead th {\n",
       "        text-align: right;\n",
       "    }\n",
       "</style>\n",
       "<table border=\"1\" class=\"dataframe\">\n",
       "  <thead>\n",
       "    <tr style=\"text-align: right;\">\n",
       "      <th></th>\n",
       "      <th>NDB_No</th>\n",
       "      <th>Long_Desc</th>\n",
       "      <th>FdGrp_Cd</th>\n",
       "      <th>FdGrp_Desc</th>\n",
       "    </tr>\n",
       "  </thead>\n",
       "  <tbody>\n",
       "    <tr>\n",
       "      <th>0</th>\n",
       "      <td>1001</td>\n",
       "      <td>Butter, salted</td>\n",
       "      <td>100</td>\n",
       "      <td>Dairy and Egg Products</td>\n",
       "    </tr>\n",
       "    <tr>\n",
       "      <th>1</th>\n",
       "      <td>1002</td>\n",
       "      <td>Butter, whipped, with salt</td>\n",
       "      <td>100</td>\n",
       "      <td>Dairy and Egg Products</td>\n",
       "    </tr>\n",
       "    <tr>\n",
       "      <th>2</th>\n",
       "      <td>1003</td>\n",
       "      <td>Butter oil, anhydrous</td>\n",
       "      <td>100</td>\n",
       "      <td>Dairy and Egg Products</td>\n",
       "    </tr>\n",
       "    <tr>\n",
       "      <th>3</th>\n",
       "      <td>1004</td>\n",
       "      <td>Cheese, blue</td>\n",
       "      <td>100</td>\n",
       "      <td>Dairy and Egg Products</td>\n",
       "    </tr>\n",
       "    <tr>\n",
       "      <th>4</th>\n",
       "      <td>1005</td>\n",
       "      <td>Cheese, brick</td>\n",
       "      <td>100</td>\n",
       "      <td>Dairy and Egg Products</td>\n",
       "    </tr>\n",
       "  </tbody>\n",
       "</table>\n",
       "</div>"
      ],
      "text/plain": [
       "   NDB_No                   Long_Desc  FdGrp_Cd              FdGrp_Desc\n",
       "0    1001              Butter, salted       100  Dairy and Egg Products\n",
       "1    1002  Butter, whipped, with salt       100  Dairy and Egg Products\n",
       "2    1003       Butter oil, anhydrous       100  Dairy and Egg Products\n",
       "3    1004                Cheese, blue       100  Dairy and Egg Products\n",
       "4    1005               Cheese, brick       100  Dairy and Egg Products"
      ]
     },
     "execution_count": 8,
     "metadata": {},
     "output_type": "execute_result"
    }
   ],
   "source": [
    "df_usda= pd.read_csv('../data/input/food_category.csv')\n",
    "df_usda.head()"
   ]
  },
  {
   "cell_type": "code",
   "execution_count": 9,
   "metadata": {},
   "outputs": [],
   "source": [
    "df_usda['NDB_No']= df_usda['NDB_No'].astype(str).str.rjust(5,'0')"
   ]
  },
  {
   "cell_type": "code",
   "execution_count": 10,
   "metadata": {},
   "outputs": [],
   "source": [
    "food2cat ={}\n",
    "food_label_map= {}\n",
    "food_id_map ={}\n",
    "for i, row in df_usda.iterrows():\n",
    "    uri = 'http://idea.rpi.edu/heals/kb/usda#'+row['NDB_No']\n",
    "    label = row['Long_Desc'].strip()\n",
    "    cat = row['FdGrp_Desc']\n",
    "    food2cat[uri] = cat\n",
    "    food_label_map[uri] = label\n",
    "    food_id_map[label] = uri"
   ]
  },
  {
   "cell_type": "code",
   "execution_count": 11,
   "metadata": {},
   "outputs": [],
   "source": [
    "linking_df = pd.read_csv('../data/usda_linking.nt', names=['entity1', 'predicate', 'entity2','x'], sep=' ')"
   ]
  },
  {
   "cell_type": "code",
   "execution_count": 12,
   "metadata": {},
   "outputs": [],
   "source": [
    "mapping_name2id={}\n",
    "mapping_id2name ={}\n",
    "for i, row in linking_df.iterrows():\n",
    "    entity1= row['entity1'].replace(\"<\",\"\")[:-1]\n",
    "    entity2= row['entity2'].replace(\"<\",\"\")[:-1]\n",
    "    #print (entity1, entity2)\n",
    "    mapping_name2id[entity1] = entity2\n",
    "    mapping_id2name[entity2] = entity1"
   ]
  },
  {
   "cell_type": "code",
   "execution_count": 13,
   "metadata": {},
   "outputs": [],
   "source": [
    "scraped_subs_dict = dict()\n",
    "\n",
    "for i,row in df.iterrows():\n",
    "    if row[0] in mapping_name2id and row[1] in mapping_name2id:\n",
    "        food= row[0]\n",
    "        subs = row[1]\n",
    "        if food not in mapping_name2id or subs not in mapping_name2id : continue\n",
    "        food_id= mapping_name2id[row[0]]\n",
    "        subs_id = mapping_name2id[row[1]]\n",
    "        #print (food, food_label_map[food_id],food_id )\n",
    "        if food_id not in scraped_subs_dict:\n",
    "            scraped_subs_dict[food_id] = set()\n",
    "        scraped_subs_dict[food_id].add(subs_id)"
   ]
  },
  {
   "cell_type": "code",
   "execution_count": 14,
   "metadata": {},
   "outputs": [
    {
     "name": "stdout",
     "output_type": "stream",
     "text": [
      "1841\n"
     ]
    }
   ],
   "source": [
    "cnt = 0\n",
    "for k in scraped_subs_dict:\n",
    "    cnt+=len(scraped_subs_dict[k])\n",
    "print (cnt)"
   ]
  },
  {
   "cell_type": "code",
   "execution_count": 15,
   "metadata": {},
   "outputs": [
    {
     "data": {
      "text/html": [
       "<div>\n",
       "<style scoped>\n",
       "    .dataframe tbody tr th:only-of-type {\n",
       "        vertical-align: middle;\n",
       "    }\n",
       "\n",
       "    .dataframe tbody tr th {\n",
       "        vertical-align: top;\n",
       "    }\n",
       "\n",
       "    .dataframe thead th {\n",
       "        text-align: right;\n",
       "    }\n",
       "</style>\n",
       "<table border=\"1\" class=\"dataframe\">\n",
       "  <thead>\n",
       "    <tr style=\"text-align: right;\">\n",
       "      <th></th>\n",
       "      <th>Unnamed: 0</th>\n",
       "      <th>Food id</th>\n",
       "      <th>Food</th>\n",
       "      <th>Food Short</th>\n",
       "    </tr>\n",
       "  </thead>\n",
       "  <tbody>\n",
       "    <tr>\n",
       "      <th>0</th>\n",
       "      <td>1</td>\n",
       "      <td>usda#11090</td>\n",
       "      <td>Broccoli</td>\n",
       "      <td>raw,broccoli</td>\n",
       "    </tr>\n",
       "    <tr>\n",
       "      <th>1</th>\n",
       "      <td>2</td>\n",
       "      <td>usda#01040</td>\n",
       "      <td>Cheese</td>\n",
       "      <td>swiss,swiss cheese</td>\n",
       "    </tr>\n",
       "    <tr>\n",
       "      <th>2</th>\n",
       "      <td>3</td>\n",
       "      <td>usda#11445</td>\n",
       "      <td>Seaweed</td>\n",
       "      <td>kelp, raw,kelp</td>\n",
       "    </tr>\n",
       "    <tr>\n",
       "      <th>3</th>\n",
       "      <td>4</td>\n",
       "      <td>usda#15065</td>\n",
       "      <td>Fish</td>\n",
       "      <td>pollock, Atlantic,pollock</td>\n",
       "    </tr>\n",
       "    <tr>\n",
       "      <th>4</th>\n",
       "      <td>5</td>\n",
       "      <td>usda#09229</td>\n",
       "      <td>Papaya nectar</td>\n",
       "      <td>canned,papaya</td>\n",
       "    </tr>\n",
       "  </tbody>\n",
       "</table>\n",
       "</div>"
      ],
      "text/plain": [
       "   Unnamed: 0     Food id           Food                  Food Short\n",
       "0           1  usda#11090       Broccoli                raw,broccoli\n",
       "1           2  usda#01040         Cheese          swiss,swiss cheese\n",
       "2           3  usda#11445        Seaweed              kelp, raw,kelp\n",
       "3           4  usda#15065           Fish   pollock, Atlantic,pollock\n",
       "4           5  usda#09229  Papaya nectar               canned,papaya"
      ]
     },
     "execution_count": 15,
     "metadata": {},
     "output_type": "execute_result"
    }
   ],
   "source": [
    "subs2_df =pd.read_csv('../data/common_foods.csv', sep='\\t')\n",
    "subs2_df.head()"
   ]
  },
  {
   "cell_type": "code",
   "execution_count": 16,
   "metadata": {},
   "outputs": [],
   "source": [
    "for i,row in subs2_df.iterrows():\n",
    "    food_id = 'http://idea.rpi.edu/heals/kb/'+row['Food id']\n",
    "    ranks = word_vectors.most_similar(food_id, topn=20)\n",
    "    ranked_foods = [food_label_map[f] for f,sim in ranks if f in food_label_map]\n",
    "    #print (i+1)\n",
    "    #print (i+1,':',food_label_map[food_id], ' ---- ',ranked_foods)\n",
    "    if food_id not in scraped_subs_dict:\n",
    "        scraped_subs_dict[food_id] = set()\n",
    "    for subs_name in ranked_foods:\n",
    "        subs_id= food_id_map[subs_name]\n",
    "        scraped_subs_dict[food_id].add(subs_id)\n",
    "    #my_list.append([fromt, food_label_map[fromt], gt_subs_labels,ranked_foods ])\n",
    "    "
   ]
  },
  {
   "cell_type": "code",
   "execution_count": 17,
   "metadata": {},
   "outputs": [],
   "source": [
    "my_list = []\n",
    "for food in scraped_subs_dict.keys():\n",
    "    subs_list = scraped_subs_dict[food]\n",
    "    for subs in subs_list:\n",
    "        my_list.append([food, food_label_map[food], '',subs ,food_label_map[subs] ])"
   ]
  },
  {
   "cell_type": "code",
   "execution_count": 18,
   "metadata": {},
   "outputs": [
    {
     "data": {
      "text/plain": [
       "3344"
      ]
     },
     "execution_count": 18,
     "metadata": {},
     "output_type": "execute_result"
    }
   ],
   "source": [
    "len(my_list)"
   ]
  },
  {
   "cell_type": "code",
   "execution_count": 19,
   "metadata": {},
   "outputs": [],
   "source": [
    "subs_df = pd.DataFrame(my_list, columns=['Food id','Food','Verified', 'Substitution id','Substitution'])"
   ]
  },
  {
   "cell_type": "code",
   "execution_count": 20,
   "metadata": {},
   "outputs": [],
   "source": [
    "subs_df.to_csv('../data/output/food_substitions_to_be_verified.csv',sep=',')"
   ]
  },
  {
   "cell_type": "code",
   "execution_count": null,
   "metadata": {},
   "outputs": [],
   "source": []
  }
 ],
 "metadata": {
  "kernelspec": {
   "display_name": "Python 3",
   "language": "python",
   "name": "python3"
  },
  "language_info": {
   "codemirror_mode": {
    "name": "ipython",
    "version": 3
   },
   "file_extension": ".py",
   "mimetype": "text/x-python",
   "name": "python",
   "nbconvert_exporter": "python",
   "pygments_lexer": "ipython3",
   "version": "3.8.3"
  }
 },
 "nbformat": 4,
 "nbformat_minor": 4
}
